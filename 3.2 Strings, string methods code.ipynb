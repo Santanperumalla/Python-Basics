{
 "cells": [
  {
   "cell_type": "markdown",
   "id": "a5ac76b1",
   "metadata": {},
   "source": [
    "# STRINGS:\n",
    "## Here you are going to learn about the **STRINGS** and **Built-in methods of STRINGS** in Python\n",
    "Let's learn about the *STRINGS & ITS BUILT-IN METHODS* with syntaxes"
   ]
  },
  {
   "cell_type": "markdown",
   "id": "75884005",
   "metadata": {},
   "source": [
    "## What is **STRING**?\n",
    "In Python, a string is a sequence of characters enclosed in single quotes ('), double quotes (\"), or triple quotes (' ' ' / \" \" \") for multi-line strings.\n",
    "\n",
    "Think of it as text data — anything from \"Hello\" to \"12345\" (even if it looks like a number, it’s still text if inside quotes)."
   ]
  },
  {
   "cell_type": "markdown",
   "id": "4fcf2fd7",
   "metadata": {},
   "source": [
    "Let's take a line of code with a string as input"
   ]
  },
  {
   "cell_type": "code",
   "execution_count": 1,
   "id": "1e832f17",
   "metadata": {},
   "outputs": [],
   "source": [
    "s='christmas is around the corner'"
   ]
  },
  {
   "cell_type": "markdown",
   "id": "1f4f1f94",
   "metadata": {},
   "source": [
    "First of all, let's check that above line of code is a string or not with type() syntax"
   ]
  },
  {
   "cell_type": "code",
   "execution_count": 2,
   "id": "2f3b38a1",
   "metadata": {},
   "outputs": [
    {
     "data": {
      "text/plain": [
       "str"
      ]
     },
     "execution_count": 2,
     "metadata": {},
     "output_type": "execute_result"
    }
   ],
   "source": [
    "type(s)"
   ]
  },
  {
   "cell_type": "markdown",
   "id": "fc0e3559",
   "metadata": {},
   "source": [
    "### STRING-METHODS:\n",
    "- len()\n",
    "- count()\n",
    "- upper()\n",
    "- lower()\n",
    "- capitalize()\n",
    "- title()\n",
    "\n",
    "- find()\n",
    "- index()\n",
    "- replace()\n",
    "- split()\n",
    "- strip()\n",
    "\n",
    "- isdigit()\n",
    "- isalpha()\n",
    "- isalnum()"
   ]
  },
  {
   "cell_type": "markdown",
   "id": "a1fd59e1",
   "metadata": {},
   "source": [
    "Now, let's workout the string methods one-by-one with the given string ' *s* '"
   ]
  },
  {
   "cell_type": "code",
   "execution_count": 3,
   "id": "13d30917",
   "metadata": {},
   "outputs": [
    {
     "data": {
      "text/plain": [
       "30"
      ]
     },
     "execution_count": 3,
     "metadata": {},
     "output_type": "execute_result"
    }
   ],
   "source": [
    "len(s)\n",
    "#len -> refers to length of the string \n",
    "#gives the total length of string consists no. of characters including spaces too"
   ]
  },
  {
   "cell_type": "code",
   "execution_count": 4,
   "id": "15526486",
   "metadata": {},
   "outputs": [
    {
     "data": {
      "text/plain": [
       "3"
      ]
     },
     "execution_count": 4,
     "metadata": {},
     "output_type": "execute_result"
    }
   ],
   "source": [
    "s.count('s')\n",
    "#gives the count of the repeated letters for the given input"
   ]
  },
  {
   "cell_type": "code",
   "execution_count": 5,
   "id": "a6bc8b23",
   "metadata": {},
   "outputs": [
    {
     "data": {
      "text/plain": [
       "'CHRISTMAS IS AROUND THE CORNER'"
      ]
     },
     "execution_count": 5,
     "metadata": {},
     "output_type": "execute_result"
    }
   ],
   "source": [
    "s.upper()\n",
    "#It converts the lowercase string or characters into the uppercase "
   ]
  },
  {
   "cell_type": "code",
   "execution_count": 6,
   "id": "3891db57",
   "metadata": {},
   "outputs": [
    {
     "data": {
      "text/plain": [
       "'christmas is around the corner'"
      ]
     },
     "execution_count": 6,
     "metadata": {},
     "output_type": "execute_result"
    }
   ],
   "source": [
    "s.lower()\n",
    "#It converts the uppercase string or characters into the lowercase "
   ]
  },
  {
   "cell_type": "code",
   "execution_count": 7,
   "id": "c887795f",
   "metadata": {},
   "outputs": [
    {
     "data": {
      "text/plain": [
       "'Christmas is around the corner'"
      ]
     },
     "execution_count": 7,
     "metadata": {},
     "output_type": "execute_result"
    }
   ],
   "source": [
    "s.capitalize()\n",
    "#It converts the first letter of string from lowercase to uppercase "
   ]
  },
  {
   "cell_type": "code",
   "execution_count": 8,
   "id": "f6897f8e",
   "metadata": {},
   "outputs": [
    {
     "data": {
      "text/plain": [
       "'Christmas Is Around The Corner'"
      ]
     },
     "execution_count": 8,
     "metadata": {},
     "output_type": "execute_result"
    }
   ],
   "source": [
    "s.title()\n",
    "#It converts the first letter of each word in a string from lowercase to the uppercase"
   ]
  },
  {
   "cell_type": "code",
   "execution_count": 9,
   "id": "cc404580",
   "metadata": {},
   "outputs": [
    {
     "data": {
      "text/plain": [
       "3"
      ]
     },
     "execution_count": 9,
     "metadata": {},
     "output_type": "execute_result"
    }
   ],
   "source": [
    "s.find('i')\n",
    "#It finds the index value of the given letter in input\n",
    "#It returns the value '-1', if not found"
   ]
  },
  {
   "cell_type": "code",
   "execution_count": 10,
   "id": "7d562ba9",
   "metadata": {},
   "outputs": [
    {
     "data": {
      "text/plain": [
       "3"
      ]
     },
     "execution_count": 10,
     "metadata": {},
     "output_type": "execute_result"
    }
   ],
   "source": [
    "s.index('i')\n",
    "#It finds the index value of the given letter in input\n",
    "#It returns the value 'Value Error', if not found"
   ]
  },
  {
   "cell_type": "code",
   "execution_count": 11,
   "id": "54d0f806",
   "metadata": {},
   "outputs": [
    {
     "data": {
      "text/plain": [
       "'chrhstmas hs around the corner'"
      ]
     },
     "execution_count": 11,
     "metadata": {},
     "output_type": "execute_result"
    }
   ],
   "source": [
    "s.replace('i','h')\n",
    "#replaces the first letter with the 2nd letter given in input from the total string "
   ]
  },
  {
   "cell_type": "code",
   "execution_count": 12,
   "id": "3abcd05d",
   "metadata": {},
   "outputs": [
    {
     "data": {
      "text/plain": [
       "['christmas', 'is', 'around', 'the', 'corner']"
      ]
     },
     "execution_count": 12,
     "metadata": {},
     "output_type": "execute_result"
    }
   ],
   "source": [
    "s.split()\n",
    "#It splits the single string into multiple values containing list \n",
    "#It seperates the string where the spaces are present"
   ]
  },
  {
   "cell_type": "code",
   "execution_count": 13,
   "id": "23919045",
   "metadata": {},
   "outputs": [
    {
     "data": {
      "text/plain": [
       "['chr', 'stmas ', 's around the corner']"
      ]
     },
     "execution_count": 13,
     "metadata": {},
     "output_type": "execute_result"
    }
   ],
   "source": [
    "s.split('i')\n",
    "#It also splits the words in a string from the letter which is given in input"
   ]
  },
  {
   "cell_type": "code",
   "execution_count": 14,
   "id": "d4035de4",
   "metadata": {},
   "outputs": [
    {
     "data": {
      "text/plain": [
       "'hristmas is around the corner'"
      ]
     },
     "execution_count": 14,
     "metadata": {},
     "output_type": "execute_result"
    }
   ],
   "source": [
    "s.strip('c') \n",
    "#It removes the characters from the string in starting point "
   ]
  },
  {
   "cell_type": "code",
   "execution_count": 15,
   "id": "c05d37c3",
   "metadata": {},
   "outputs": [
    {
     "data": {
      "text/plain": [
       "'dxster'"
      ]
     },
     "execution_count": 15,
     "metadata": {},
     "output_type": "execute_result"
    }
   ],
   "source": [
    "a = ' dxster '\n",
    "a.strip()\n",
    "#It removes the spaces of a string at starting and ending points "
   ]
  },
  {
   "cell_type": "code",
   "execution_count": 16,
   "id": "668512ad",
   "metadata": {},
   "outputs": [
    {
     "data": {
      "text/plain": [
       "False"
      ]
     },
     "execution_count": 16,
     "metadata": {},
     "output_type": "execute_result"
    }
   ],
   "source": [
    "s.isdigit()\n",
    "#finds the numericals, if yes then its true or else false ((doesnt accept special characters; ex:space))"
   ]
  },
  {
   "cell_type": "code",
   "execution_count": 17,
   "id": "df122149",
   "metadata": {},
   "outputs": [
    {
     "data": {
      "text/plain": [
       "False"
      ]
     },
     "execution_count": 17,
     "metadata": {},
     "output_type": "execute_result"
    }
   ],
   "source": [
    "s.isalpha()\n",
    "#finds the alphabets, if yes then its true or else false (doesnt accept special characters; ex:space)"
   ]
  },
  {
   "cell_type": "code",
   "execution_count": 18,
   "id": "536107b9",
   "metadata": {},
   "outputs": [
    {
     "data": {
      "text/plain": [
       "False"
      ]
     },
     "execution_count": 18,
     "metadata": {},
     "output_type": "execute_result"
    }
   ],
   "source": [
    "s.isalnum()\n",
    "#finds the alphabets & numericals, if yes then its true or else false (doesnt accept special characters; ex:space)"
   ]
  },
  {
   "cell_type": "markdown",
   "id": "e5f5468d",
   "metadata": {},
   "source": [
    "## SPECIAL STRING METHODS:\n",
    "1. .join()\n",
    "2. endswith()\n",
    "3. startswith()"
   ]
  },
  {
   "cell_type": "code",
   "execution_count": 3,
   "id": "02daed6a",
   "metadata": {},
   "outputs": [
    {
     "data": {
      "text/plain": [
       "'dchristmas is around the corners'"
      ]
     },
     "execution_count": 3,
     "metadata": {},
     "output_type": "execute_result"
    }
   ],
   "source": [
    "s.join('ds') #it joins the given characters at starting and ending points and also in-between the input string depends upon the given format "
   ]
  },
  {
   "cell_type": "code",
   "execution_count": 10,
   "id": "e5c95e58",
   "metadata": {},
   "outputs": [
    {
     "data": {
      "text/plain": [
       "'c**h**r**i**s**t**m**a**s** **i**s** **a**r**o**u**n**d** **t**h**e** **c**o**r**n**e**r'"
      ]
     },
     "execution_count": 10,
     "metadata": {},
     "output_type": "execute_result"
    }
   ],
   "source": [
    "'**'.join(s) #this command line adds the speacial characters in between the string"
   ]
  },
  {
   "cell_type": "code",
   "execution_count": null,
   "id": "d749bcd4",
   "metadata": {},
   "outputs": [
    {
     "data": {
      "text/plain": [
       "True"
      ]
     },
     "execution_count": 13,
     "metadata": {},
     "output_type": "execute_result"
    }
   ],
   "source": [
    "s.startswith('c') \n",
    "#it checks that given character is matching with the first character in the string & throws the True or False "
   ]
  },
  {
   "cell_type": "code",
   "execution_count": 14,
   "id": "c0f40d1b",
   "metadata": {},
   "outputs": [
    {
     "data": {
      "text/plain": [
       "True"
      ]
     },
     "execution_count": 14,
     "metadata": {},
     "output_type": "execute_result"
    }
   ],
   "source": [
    "s.endswith('r')\n",
    "#it checks that given character is matching with the last or ending character in the string & throws the True or False "
   ]
  },
  {
   "cell_type": "markdown",
   "id": "80ec5ef1",
   "metadata": {},
   "source": [
    "## SWAPCASE:\n",
    "- The swapcase() method is a string method in Python that swaps the case of each character in a string:\n",
    "  - Converts uppercase letters to lowercase\n",
    "  - Converts lowercase letters to uppercase"
   ]
  },
  {
   "cell_type": "code",
   "execution_count": 17,
   "id": "5321aa82",
   "metadata": {},
   "outputs": [
    {
     "data": {
      "text/plain": [
       "'CHRISTMAS IS AROUND THE CORNER'"
      ]
     },
     "execution_count": 17,
     "metadata": {},
     "output_type": "execute_result"
    }
   ],
   "source": [
    "s='christmas is around the corner'\n",
    "s.swapcase()\n",
    "#it converts the string into uppercase as the string is in lowercase "
   ]
  },
  {
   "cell_type": "code",
   "execution_count": null,
   "id": "07aa1121",
   "metadata": {},
   "outputs": [
    {
     "data": {
      "text/plain": [
       "'jupyter is python environment'"
      ]
     },
     "execution_count": 19,
     "metadata": {},
     "output_type": "execute_result"
    }
   ],
   "source": [
    "s='JUPYTER IS PYTHON ENVIRONMENT'\n",
    "s.swapcase()\n",
    "#it converts the string into lowercase as the string is in uppercase "
   ]
  },
  {
   "attachments": {
    "image.png": {
     "image/png": "[encoded data removed]"
    }
   },
   "cell_type": "markdown",
   "id": "02b10ad8",
   "metadata": {},
   "source": [
    "![image.png](attachment:image.png)"
   ]
  },
  {
   "cell_type": "markdown",
   "id": "4f3f0999",
   "metadata": {},
   "source": [
    "## SLICING:\n",
    "- Taking the sub-parts from an entire string is known as **'SLICING'**"
   ]
  },
  {
   "cell_type": "code",
   "execution_count": 21,
   "id": "f3f7c351",
   "metadata": {},
   "outputs": [],
   "source": [
    "s='christmas is around the corner'"
   ]
  },
  {
   "cell_type": "code",
   "execution_count": 5,
   "id": "9f28b245",
   "metadata": {},
   "outputs": [
    {
     "data": {
      "text/plain": [
       "'christmas is around the corner'"
      ]
     },
     "execution_count": 5,
     "metadata": {},
     "output_type": "execute_result"
    }
   ],
   "source": [
    "s[::1]\n",
    "#[::1] helps in printing the sentence as it is"
   ]
  },
  {
   "cell_type": "code",
   "execution_count": 6,
   "id": "61795fdf",
   "metadata": {},
   "outputs": [
    {
     "data": {
      "text/plain": [
       "'renroc eht dnuora si samtsirhc'"
      ]
     },
     "execution_count": 6,
     "metadata": {},
     "output_type": "execute_result"
    }
   ],
   "source": [
    "s[::-1]\n",
    "#this [::-1] prints the whole sentence in reverse order with every alphabet"
   ]
  },
  {
   "cell_type": "code",
   "execution_count": 7,
   "id": "14195e86",
   "metadata": {},
   "outputs": [
    {
     "data": {
      "text/plain": [
       "'crsmsi rudtecre'"
      ]
     },
     "execution_count": 7,
     "metadata": {},
     "output_type": "execute_result"
    }
   ],
   "source": [
    "s[::2]\n",
    "#[::2] prints the sentence with escaping letter between a letter "
   ]
  },
  {
   "cell_type": "code",
   "execution_count": 8,
   "id": "7bf5cdaa",
   "metadata": {},
   "outputs": [
    {
     "data": {
      "text/plain": [
       "'chris'"
      ]
     },
     "execution_count": 8,
     "metadata": {},
     "output_type": "execute_result"
    }
   ],
   "source": [
    "s[:5]\n",
    "#[:5] prints the letters upto the index of 5 from starting index range as 0"
   ]
  },
  {
   "cell_type": "code",
   "execution_count": 9,
   "id": "606e7660",
   "metadata": {},
   "outputs": [
    {
     "data": {
      "text/plain": [
       "' cor'"
      ]
     },
     "execution_count": 9,
     "metadata": {},
     "output_type": "execute_result"
    }
   ],
   "source": [
    "s[-7:-3:1]\n",
    "#[-7:-3:1] prints the letters from index of '-7' to index of '-3' & '1' refers as to print in the correct order "
   ]
  },
  {
   "cell_type": "code",
   "execution_count": 20,
   "id": "0fbfaa19",
   "metadata": {},
   "outputs": [
    {
     "data": {
      "text/plain": [
       "'R'"
      ]
     },
     "execution_count": 20,
     "metadata": {},
     "output_type": "execute_result"
    }
   ],
   "source": [
    "s[-7:23:1]\n",
    "#[-7:23:1] This gives an empty string because the start index (-7) comes after the end index (23) in the string."
   ]
  }
 ],
 "metadata": {
  "kernelspec": {
   "display_name": "base",
   "language": "python",
   "name": "python3"
  },
  "language_info": {
   "codemirror_mode": {
    "name": "ipython",
    "version": 3
   },
   "file_extension": ".py",
   "mimetype": "text/x-python",
   "name": "python",
   "nbconvert_exporter": "python",
   "pygments_lexer": "ipython3",
   "version": "3.13.5"
  }
 },
 "nbformat": 4,
 "nbformat_minor": 5
}
