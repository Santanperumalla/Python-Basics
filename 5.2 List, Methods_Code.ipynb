{
 "cells": [
  {
   "cell_type": "markdown",
   "id": "641e38a4",
   "metadata": {},
   "source": [
    "## LIST -> [ ] (COLLECTIVE DATA TYPE)\n",
    "- function which have ***different collection of data's***.\n",
    "- it consists of various data types such as integers, floats, variables and strings etc...\n",
    "- ***heterogeneous***\n",
    "- ordered (indexing and slicing)\n",
    "- nested (list in a list)\n",
    "- mutable (also executes the list after changing the data in the given list)"
   ]
  },
  {
   "cell_type": "code",
   "execution_count": 1,
   "id": "17757c7b",
   "metadata": {},
   "outputs": [
    {
     "data": {
      "text/plain": [
       "list"
      ]
     },
     "execution_count": 1,
     "metadata": {},
     "output_type": "execute_result"
    }
   ],
   "source": [
    "a=[]\n",
    "type(a) #the empty list is also be a list, but in case of square braces i.e. '[]'"
   ]
  },
  {
   "cell_type": "code",
   "execution_count": 2,
   "id": "7151ade2",
   "metadata": {},
   "outputs": [
    {
     "data": {
      "text/plain": [
       "[1, 2.0, 'd', 'lenovo']"
      ]
     },
     "execution_count": 2,
     "metadata": {},
     "output_type": "execute_result"
    }
   ],
   "source": [
    "b=[1,2.0,'d','lenovo']\n",
    "b\n",
    "#its printing the different data types in a list"
   ]
  },
  {
   "cell_type": "code",
   "execution_count": 3,
   "id": "b3751830",
   "metadata": {},
   "outputs": [
    {
     "data": {
      "text/plain": [
       "[1, 2.0, 'oppo', 'hjk', 12, 345, (9+8j), True, [90, 12]]"
      ]
     },
     "execution_count": 3,
     "metadata": {},
     "output_type": "execute_result"
    }
   ],
   "source": [
    "c=[1,2.0,'oppo','hjk',12,345,9+8j,True,[90,12]]\n",
    "c\n",
    "#its also printing the complex, boolean data types and also along with a nested list"
   ]
  },
  {
   "cell_type": "code",
   "execution_count": 4,
   "id": "ebb4f4e1",
   "metadata": {},
   "outputs": [
    {
     "data": {
      "text/plain": [
       "[1, 2.0, 'oppo', 'hjk', 12, 345, (9+8j), True, [90, 12]]"
      ]
     },
     "execution_count": 4,
     "metadata": {},
     "output_type": "execute_result"
    }
   ],
   "source": [
    "c"
   ]
  },
  {
   "cell_type": "code",
   "execution_count": 5,
   "id": "86092fee",
   "metadata": {},
   "outputs": [
    {
     "data": {
      "text/plain": [
       "[90, 12]"
      ]
     },
     "execution_count": 5,
     "metadata": {},
     "output_type": "execute_result"
    }
   ],
   "source": [
    "c[-1]\n",
    "#it prints the last value in a list "
   ]
  },
  {
   "cell_type": "code",
   "execution_count": 6,
   "id": "d0bd2057",
   "metadata": {},
   "outputs": [
    {
     "data": {
      "text/plain": [
       "12"
      ]
     },
     "execution_count": 6,
     "metadata": {},
     "output_type": "execute_result"
    }
   ],
   "source": [
    "c[-1][-1]\n",
    "#it prints the last value of nested list "
   ]
  },
  {
   "cell_type": "code",
   "execution_count": 7,
   "id": "5b6fb019",
   "metadata": {},
   "outputs": [
    {
     "data": {
      "text/plain": [
       "9"
      ]
     },
     "execution_count": 7,
     "metadata": {},
     "output_type": "execute_result"
    }
   ],
   "source": [
    "len(c)\n",
    "#it prints the length of list with containing values"
   ]
  },
  {
   "cell_type": "markdown",
   "id": "0175956a",
   "metadata": {},
   "source": [
    "## List Methods:\n",
    "- .append()\n",
    "- .remove()\n",
    "- .extend()\n",
    "- del()\n",
    "- .copy\n",
    "- .deepcopy\n",
    "- .clear()\n",
    "- count()\n",
    "- .index()\n",
    "- .sort()\n",
    "- .insert()\n",
    "- .pop()\n",
    "- .reverse()\n"
   ]
  },
  {
   "cell_type": "code",
   "execution_count": 8,
   "id": "7180eb14",
   "metadata": {},
   "outputs": [],
   "source": [
    "c.append('frame') #adds the 1 value to the list"
   ]
  },
  {
   "cell_type": "code",
   "execution_count": 9,
   "id": "6d92fa49",
   "metadata": {},
   "outputs": [
    {
     "data": {
      "text/plain": [
       "[1, 2.0, 'oppo', 'hjk', 12, 345, (9+8j), True, [90, 12], 'frame']"
      ]
     },
     "execution_count": 9,
     "metadata": {},
     "output_type": "execute_result"
    }
   ],
   "source": [
    "c #here you can see that 'frame' is added to the list"
   ]
  },
  {
   "cell_type": "code",
   "execution_count": 10,
   "id": "d55e7f83",
   "metadata": {},
   "outputs": [],
   "source": [
    "c.remove('frame') #removes the input data from the list"
   ]
  },
  {
   "cell_type": "code",
   "execution_count": 11,
   "id": "8ea96f30",
   "metadata": {},
   "outputs": [
    {
     "data": {
      "text/plain": [
       "[1, 2.0, 'oppo', 'hjk', 12, 345, (9+8j), True, [90, 12]]"
      ]
     },
     "execution_count": 11,
     "metadata": {},
     "output_type": "execute_result"
    }
   ],
   "source": [
    "c #here you can see that 'frame' is removed from the list"
   ]
  },
  {
   "cell_type": "code",
   "execution_count": 12,
   "id": "91ceee48",
   "metadata": {},
   "outputs": [],
   "source": [
    "c.extend('love') \n",
    "#takes the multiple value and adds as individual\n",
    "#adds the given input and prints as each single seperate letter"
   ]
  },
  {
   "cell_type": "code",
   "execution_count": 13,
   "id": "fc9204b6",
   "metadata": {},
   "outputs": [
    {
     "data": {
      "text/plain": [
       "[1, 2.0, 'oppo', 'hjk', 12, 345, (9+8j), True, [90, 12], 'l', 'o', 'v', 'e']"
      ]
     },
     "execution_count": 13,
     "metadata": {},
     "output_type": "execute_result"
    }
   ],
   "source": [
    "c #here you can see that 'sad' is added as multiple values into the list"
   ]
  },
  {
   "cell_type": "code",
   "execution_count": 14,
   "id": "daa24e61",
   "metadata": {},
   "outputs": [],
   "source": [
    "c.extend([55,3])\n",
    "#adds the integers, but in the form of list"
   ]
  },
  {
   "cell_type": "code",
   "execution_count": 16,
   "id": "dff255ad",
   "metadata": {},
   "outputs": [
    {
     "data": {
      "text/plain": [
       "[1,\n",
       " 2.0,\n",
       " 'oppo',\n",
       " 'hjk',\n",
       " 12,\n",
       " 345,\n",
       " (9+8j),\n",
       " True,\n",
       " [90, 12],\n",
       " 'l',\n",
       " 'o',\n",
       " 'v',\n",
       " 'e',\n",
       " 55,\n",
       " 3]"
      ]
     },
     "execution_count": 16,
     "metadata": {},
     "output_type": "execute_result"
    }
   ],
   "source": [
    "c #here you can see that extended list is added to the list"
   ]
  },
  {
   "cell_type": "code",
   "execution_count": null,
   "id": "9a62b56a",
   "metadata": {},
   "outputs": [
    {
     "data": {
      "text/plain": [
       "2"
      ]
     },
     "execution_count": 17,
     "metadata": {},
     "output_type": "execute_result"
    }
   ],
   "source": [
    "c.count(1) #gives the count of input iterated in the list "
   ]
  },
  {
   "cell_type": "code",
   "execution_count": null,
   "id": "4ffa04ac",
   "metadata": {},
   "outputs": [
    {
     "ename": "TypeError",
     "evalue": "'<' not supported between instances of 'str' and 'float'",
     "output_type": "error",
     "traceback": [
      "\u001b[1;31m---------------------------------------------------------------------------\u001b[0m",
      "\u001b[1;31mTypeError\u001b[0m                                 Traceback (most recent call last)",
      "Cell \u001b[1;32mIn[21], line 1\u001b[0m\n\u001b[1;32m----> 1\u001b[0m c\u001b[38;5;241m.\u001b[39msort()\n",
      "\u001b[1;31mTypeError\u001b[0m: '<' not supported between instances of 'str' and 'float'"
     ]
    }
   ],
   "source": [
    "c.sort()\n",
    "#as here the list contains strings, so sort is not possible"
   ]
  },
  {
   "cell_type": "code",
   "execution_count": null,
   "id": "30433887",
   "metadata": {},
   "outputs": [
    {
     "data": {
      "text/plain": [
       "[1, 1.67, 2.5, 5, 8, 28, 47, 61, 73]"
      ]
     },
     "execution_count": 23,
     "metadata": {},
     "output_type": "execute_result"
    }
   ],
   "source": [
    "c=[1,5,73,47,8,61,28,2.5,1.67]\n",
    "c.sort()\n",
    "c #it sorts the values i.e. integers & floats in ascending order as default"
   ]
  },
  {
   "cell_type": "code",
   "execution_count": null,
   "id": "e98b3340",
   "metadata": {},
   "outputs": [
    {
     "data": {
      "text/plain": [
       "13"
      ]
     },
     "execution_count": 24,
     "metadata": {},
     "output_type": "execute_result"
    }
   ],
   "source": [
    "c=[1, 2.0, 'oppo', 'hjk', 12, 345, (9+8j), True, [90, 12], 'l', 'o', 'v', 'e','frame']\n",
    "c.index('frame') \n",
    "#it represents the index number of particular value which is given at input"
   ]
  },
  {
   "cell_type": "code",
   "execution_count": null,
   "id": "1caa2bc5",
   "metadata": {},
   "outputs": [
    {
     "data": {
      "text/plain": [
       "[]"
      ]
     },
     "execution_count": 25,
     "metadata": {},
     "output_type": "execute_result"
    }
   ],
   "source": [
    "c.clear()\n",
    "c #it clears all the values present in a list"
   ]
  },
  {
   "cell_type": "markdown",
   "id": "9d13c109",
   "metadata": {},
   "source": [
    "### copy:\n",
    "- it changes the input in nested list\n",
    "#### MUTABLE"
   ]
  },
  {
   "cell_type": "code",
   "execution_count": null,
   "id": "47ff7e18",
   "metadata": {},
   "outputs": [
    {
     "name": "stdout",
     "output_type": "stream",
     "text": [
      "[12, 13, 14, [11, 'satya']]\n",
      "[12, 13, 14, [11, 'satya']]\n"
     ]
    }
   ],
   "source": [
    "import copy\n",
    "a=[12,13,14,[11,10]]\n",
    "b=copy.copy(a)\n",
    "a[-1][-1]='satya'\n",
    "print(a)\n",
    "print(b)\n",
    "\n",
    "#you can see here that the value changes in nested list while doing copy method"
   ]
  },
  {
   "cell_type": "markdown",
   "id": "54be9056",
   "metadata": {},
   "source": [
    "### deep copy\n",
    "- it doesn't changes the nested list\n",
    "#### IMMUTABLE"
   ]
  },
  {
   "cell_type": "code",
   "execution_count": null,
   "id": "cd44e44f",
   "metadata": {},
   "outputs": [
    {
     "name": "stdout",
     "output_type": "stream",
     "text": [
      "[12, 13, 14, [11, 'satya']]\n",
      "[12, 13, 14, [11, 10]]\n"
     ]
    }
   ],
   "source": [
    "import copy\n",
    "a=[12,13,14,[11,10]]\n",
    "b=copy.deepcopy(a)\n",
    "a[-1][-1]='satya'\n",
    "#a[0]='satya'\n",
    "print(a)\n",
    "print(b)\n",
    "\n",
    "#you can see here that the value doesn't changes in nested list while doing deep copy method"
   ]
  },
  {
   "cell_type": "code",
   "execution_count": 29,
   "id": "4439a2df",
   "metadata": {},
   "outputs": [
    {
     "ename": "NameError",
     "evalue": "name 'c' is not defined",
     "output_type": "error",
     "traceback": [
      "\u001b[1;31m---------------------------------------------------------------------------\u001b[0m",
      "\u001b[1;31mNameError\u001b[0m                                 Traceback (most recent call last)",
      "Cell \u001b[1;32mIn[29], line 1\u001b[0m\n\u001b[1;32m----> 1\u001b[0m \u001b[38;5;28;01mdel\u001b[39;00m(c)\n\u001b[0;32m      2\u001b[0m c\n",
      "\u001b[1;31mNameError\u001b[0m: name 'c' is not defined"
     ]
    }
   ],
   "source": [
    "del(c)\n",
    "c\n",
    "#it deletes the total list and results in not defined variable"
   ]
  }
 ],
 "metadata": {
  "kernelspec": {
   "display_name": "base",
   "language": "python",
   "name": "python3"
  },
  "language_info": {
   "codemirror_mode": {
    "name": "ipython",
    "version": 3
   },
   "file_extension": ".py",
   "mimetype": "text/x-python",
   "name": "python",
   "nbconvert_exporter": "python",
   "pygments_lexer": "ipython3",
   "version": "3.13.5"
  }
 },
 "nbformat": 4,
 "nbformat_minor": 5
}
