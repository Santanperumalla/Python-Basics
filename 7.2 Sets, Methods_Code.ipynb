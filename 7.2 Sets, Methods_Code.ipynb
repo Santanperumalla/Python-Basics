{
 "cells": [
  {
   "cell_type": "markdown",
   "id": "24565c23",
   "metadata": {},
   "source": [
    "# SET:\n",
    "- A set in Python is an unordered collection of unique and immutable elements.\n",
    "- It's a built-in data type used for storing multiple items in a single variable, like lists or tuples—but with some key differences.\n",
    "1. opens & closes with { }\n",
    "2. need atleast one character\n",
    "3. heterogeneous\n",
    "4. unordered (no indexing & slicing)\n",
    "5. doesnt allows the duplication\n",
    "6. immutable"
   ]
  },
  {
   "cell_type": "code",
   "execution_count": 1,
   "id": "10426eca",
   "metadata": {},
   "outputs": [
    {
     "data": {
      "text/plain": [
       "set"
      ]
     },
     "execution_count": 1,
     "metadata": {},
     "output_type": "execute_result"
    }
   ],
   "source": [
    "a = {1} #set should contains atleast one character to define as set\n",
    "type(a)"
   ]
  },
  {
   "cell_type": "code",
   "execution_count": 2,
   "id": "1f110871",
   "metadata": {},
   "outputs": [
    {
     "data": {
      "text/plain": [
       "set"
      ]
     },
     "execution_count": 2,
     "metadata": {},
     "output_type": "execute_result"
    }
   ],
   "source": [
    "a = set(a)\n",
    "type(a) #you can define a set like this, without giving atleast one character"
   ]
  },
  {
   "cell_type": "code",
   "execution_count": 3,
   "id": "1752971e",
   "metadata": {},
   "outputs": [
    {
     "data": {
      "text/plain": [
       "dict"
      ]
     },
     "execution_count": 3,
     "metadata": {},
     "output_type": "execute_result"
    }
   ],
   "source": [
    "a = {}\n",
    "type(a)\n",
    "#if you create this '{}' braces without a single character, it defines as 'DICTIONARY' as default"
   ]
  },
  {
   "cell_type": "code",
   "execution_count": 4,
   "id": "910baac9",
   "metadata": {},
   "outputs": [
    {
     "data": {
      "text/plain": [
       "{0, 1, 2, 3, 4, 'rajasthan'}"
      ]
     },
     "execution_count": 4,
     "metadata": {},
     "output_type": "execute_result"
    }
   ],
   "source": [
    "a={0,1,2,'rajasthan',3,4,4,3,2}\n",
    "a #it doesnt allowing the duplication"
   ]
  },
  {
   "cell_type": "code",
   "execution_count": 5,
   "id": "e931fe8e",
   "metadata": {},
   "outputs": [
    {
     "ename": "AttributeError",
     "evalue": "'set' object has no attribute 'append'",
     "output_type": "error",
     "traceback": [
      "\u001b[1;31m---------------------------------------------------------------------------\u001b[0m",
      "\u001b[1;31mAttributeError\u001b[0m                            Traceback (most recent call last)",
      "Cell \u001b[1;32mIn[5], line 1\u001b[0m\n\u001b[1;32m----> 1\u001b[0m a\u001b[38;5;241m.\u001b[39mappend(\u001b[38;5;241m5\u001b[39m)\n",
      "\u001b[1;31mAttributeError\u001b[0m: 'set' object has no attribute 'append'"
     ]
    }
   ],
   "source": [
    "a.append(5) \n",
    "#immutable - set doesnt allowing to add the variables after creation "
   ]
  },
  {
   "cell_type": "code",
   "execution_count": 6,
   "id": "3bfc0071",
   "metadata": {},
   "outputs": [
    {
     "data": {
      "text/plain": [
       "{0, 1, 2, 3, 4}"
      ]
     },
     "execution_count": 6,
     "metadata": {},
     "output_type": "execute_result"
    }
   ],
   "source": [
    "a.remove('rajasthan')\n",
    "a #but, set can remove the elements from it"
   ]
  },
  {
   "cell_type": "code",
   "execution_count": 7,
   "id": "ae595916",
   "metadata": {},
   "outputs": [
    {
     "ename": "AttributeError",
     "evalue": "'set' object has no attribute 'index'",
     "output_type": "error",
     "traceback": [
      "\u001b[1;31m---------------------------------------------------------------------------\u001b[0m",
      "\u001b[1;31mAttributeError\u001b[0m                            Traceback (most recent call last)",
      "Cell \u001b[1;32mIn[7], line 1\u001b[0m\n\u001b[1;32m----> 1\u001b[0m a\u001b[38;5;241m.\u001b[39mindex(\u001b[38;5;241m3\u001b[39m) \n\u001b[0;32m      2\u001b[0m a\n",
      "\u001b[1;31mAttributeError\u001b[0m: 'set' object has no attribute 'index'"
     ]
    }
   ],
   "source": [
    "a.index(3) \n",
    "a #indexing doesnt work, as set doesnt have any order"
   ]
  },
  {
   "cell_type": "code",
   "execution_count": 8,
   "id": "f3098288",
   "metadata": {},
   "outputs": [
    {
     "ename": "TypeError",
     "evalue": "'set' object is not subscriptable",
     "output_type": "error",
     "traceback": [
      "\u001b[1;31m---------------------------------------------------------------------------\u001b[0m",
      "\u001b[1;31mTypeError\u001b[0m                                 Traceback (most recent call last)",
      "Cell \u001b[1;32mIn[8], line 1\u001b[0m\n\u001b[1;32m----> 1\u001b[0m a[\u001b[38;5;241m0\u001b[39m:\u001b[38;5;241m3\u001b[39m:\u001b[38;5;241m1\u001b[39m] \n\u001b[0;32m      2\u001b[0m a\n",
      "\u001b[1;31mTypeError\u001b[0m: 'set' object is not subscriptable"
     ]
    }
   ],
   "source": [
    "a[0:3:1] \n",
    "a #slicing doesnt work, as set doesnt have any order"
   ]
  },
  {
   "cell_type": "code",
   "execution_count": 9,
   "id": "ac9274e7",
   "metadata": {},
   "outputs": [
    {
     "data": {
      "text/plain": [
       "0"
      ]
     },
     "execution_count": 9,
     "metadata": {},
     "output_type": "execute_result"
    }
   ],
   "source": [
    "min(a) #doesnt allows the minimum or maximum value as it consists the string also\n",
    "#if doesnt have any strings, the minimum and maximum values works"
   ]
  },
  {
   "cell_type": "markdown",
   "id": "1997044f",
   "metadata": {},
   "source": [
    "# BUILT-IN METHODS -> SET\n",
    "- .add()\n",
    "- .update()\n",
    "- .pop()\n",
    "- .clear()\n",
    "- .remove()\n",
    "- .discard()\n",
    "- sorted()"
   ]
  },
  {
   "cell_type": "code",
   "execution_count": 10,
   "id": "4938da2f",
   "metadata": {},
   "outputs": [
    {
     "data": {
      "text/plain": [
       "{1, 2, 3, 4, 90, 'kl'}"
      ]
     },
     "execution_count": 10,
     "metadata": {},
     "output_type": "execute_result"
    }
   ],
   "source": [
    "a={1,2,3,90,'kl'}\n",
    "a.add(4) #it adds the elements into the set, but cant append\n",
    "a"
   ]
  },
  {
   "cell_type": "code",
   "execution_count": 11,
   "id": "60a652ce",
   "metadata": {},
   "outputs": [
    {
     "data": {
      "text/plain": [
       "{1, 2, 3, 4, 90, 'g', 'h', 'i', 'kl'}"
      ]
     },
     "execution_count": 11,
     "metadata": {},
     "output_type": "execute_result"
    }
   ],
   "source": [
    "a.update('ghi')\n",
    "a #it adds the string and extends the string as single variable"
   ]
  },
  {
   "cell_type": "code",
   "execution_count": 12,
   "id": "0db4c6d5",
   "metadata": {},
   "outputs": [
    {
     "data": {
      "text/plain": [
       "{2, 3, 4, 90, 'g', 'h', 'i', 'kl'}"
      ]
     },
     "execution_count": 12,
     "metadata": {},
     "output_type": "execute_result"
    }
   ],
   "source": [
    "a.pop() #it eliminates the elements one by one when executed \n",
    "a"
   ]
  },
  {
   "cell_type": "code",
   "execution_count": 13,
   "id": "f35876b7",
   "metadata": {},
   "outputs": [
    {
     "data": {
      "text/plain": [
       "{2, 3, 4, 90, 'g', 'h', 'i'}"
      ]
     },
     "execution_count": 13,
     "metadata": {},
     "output_type": "execute_result"
    }
   ],
   "source": [
    "a.discard('kl')\n",
    "a #it discard (i.e. removes) the element given in the input "
   ]
  },
  {
   "cell_type": "code",
   "execution_count": 14,
   "id": "d3793981",
   "metadata": {},
   "outputs": [
    {
     "data": {
      "text/plain": [
       "{2, 3, 4, 90, 'h', 'i'}"
      ]
     },
     "execution_count": 14,
     "metadata": {},
     "output_type": "execute_result"
    }
   ],
   "source": [
    "a.remove('g')\n",
    "a #it also works as the function of discard i.e removes the element"
   ]
  },
  {
   "cell_type": "code",
   "execution_count": 15,
   "id": "2bd1a76e",
   "metadata": {},
   "outputs": [
    {
     "ename": "TypeError",
     "evalue": "'<' not supported between instances of 'str' and 'int'",
     "output_type": "error",
     "traceback": [
      "\u001b[1;31m---------------------------------------------------------------------------\u001b[0m",
      "\u001b[1;31mTypeError\u001b[0m                                 Traceback (most recent call last)",
      "Cell \u001b[1;32mIn[15], line 1\u001b[0m\n\u001b[1;32m----> 1\u001b[0m \u001b[38;5;28msorted\u001b[39m(a)\n\u001b[0;32m      2\u001b[0m a\n",
      "\u001b[1;31mTypeError\u001b[0m: '<' not supported between instances of 'str' and 'int'"
     ]
    }
   ],
   "source": [
    "sorted(a)\n",
    "a #it sorts the elements in an order, if only the integer values are present not includes strings.\n",
    "# as strings are iterable, it doesnt strings to sort."
   ]
  },
  {
   "cell_type": "code",
   "execution_count": null,
   "id": "0e4035df",
   "metadata": {},
   "outputs": [],
   "source": []
  }
 ],
 "metadata": {
  "kernelspec": {
   "display_name": "base",
   "language": "python",
   "name": "python3"
  },
  "language_info": {
   "codemirror_mode": {
    "name": "ipython",
    "version": 3
   },
   "file_extension": ".py",
   "mimetype": "text/x-python",
   "name": "python",
   "nbconvert_exporter": "python",
   "pygments_lexer": "ipython3",
   "version": "3.13.5"
  }
 },
 "nbformat": 4,
 "nbformat_minor": 5
}
