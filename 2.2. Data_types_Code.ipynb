{
 "cells": [
  {
   "cell_type": "markdown",
   "id": "552fe52e",
   "metadata": {},
   "source": [
    "## DATA TYPES:"
   ]
  },
  {
   "cell_type": "markdown",
   "id": "2170e88a",
   "metadata": {},
   "source": [
    "### Here you are going to learn about, How to find the **DATA TYPE** of a value in python\n",
    "Let's learn how to write syntax for finding a **DATA TYPE**"
   ]
  },
  {
   "cell_type": "markdown",
   "id": "090213f8",
   "metadata": {},
   "source": [
    "**SYNTAX :** type()"
   ]
  },
  {
   "cell_type": "code",
   "execution_count": null,
   "id": "9671a293",
   "metadata": {},
   "outputs": [
    {
     "data": {
      "text/plain": [
       "int"
      ]
     },
     "execution_count": 1,
     "metadata": {},
     "output_type": "execute_result"
    }
   ],
   "source": [
    "a = 5\n",
    "type(a) #int -> integer"
   ]
  },
  {
   "cell_type": "code",
   "execution_count": null,
   "id": "d57ee291",
   "metadata": {},
   "outputs": [
    {
     "data": {
      "text/plain": [
       "float"
      ]
     },
     "execution_count": 2,
     "metadata": {},
     "output_type": "execute_result"
    }
   ],
   "source": [
    "b = 4.6\n",
    "type(b) #float -> integer with decimals"
   ]
  },
  {
   "cell_type": "code",
   "execution_count": null,
   "id": "f81f6ac7",
   "metadata": {},
   "outputs": [
    {
     "data": {
      "text/plain": [
       "complex"
      ]
     },
     "execution_count": 3,
     "metadata": {},
     "output_type": "execute_result"
    }
   ],
   "source": [
    "c =3+2j\n",
    "type(c) #complex -> combination of real and imaginary numbers"
   ]
  },
  {
   "cell_type": "code",
   "execution_count": null,
   "id": "826a9cde",
   "metadata": {},
   "outputs": [
    {
     "data": {
      "text/plain": [
       "str"
      ]
     },
     "execution_count": 4,
     "metadata": {},
     "output_type": "execute_result"
    }
   ],
   "source": [
    "d = 'python'\n",
    "type(d) #str -> string "
   ]
  },
  {
   "cell_type": "code",
   "execution_count": null,
   "id": "8132fad1",
   "metadata": {},
   "outputs": [
    {
     "data": {
      "text/plain": [
       "bool"
      ]
     },
     "execution_count": 5,
     "metadata": {},
     "output_type": "execute_result"
    }
   ],
   "source": [
    "e = True\n",
    "type(e) #bool -> boolean"
   ]
  },
  {
   "cell_type": "code",
   "execution_count": null,
   "id": "6fa6cfe8",
   "metadata": {},
   "outputs": [
    {
     "data": {
      "text/plain": [
       "list"
      ]
     },
     "execution_count": 6,
     "metadata": {},
     "output_type": "execute_result"
    }
   ],
   "source": [
    "l = [1,2.8,'dove',True,3+2j]\n",
    "type(l) #list -> contains all data types as a pack\n",
    "# list starts and ends with '[]' i.e. square braces "
   ]
  },
  {
   "cell_type": "code",
   "execution_count": null,
   "id": "4adf488b",
   "metadata": {},
   "outputs": [
    {
     "data": {
      "text/plain": [
       "tuple"
      ]
     },
     "execution_count": 7,
     "metadata": {},
     "output_type": "execute_result"
    }
   ],
   "source": [
    "t = (1,6.4,'load',False,5+9j)\n",
    "type(t) #tuple -> also acts like a list\n",
    "# tuple starts and ends with '()' i.e. curly braces"
   ]
  },
  {
   "cell_type": "code",
   "execution_count": null,
   "id": "333866a6",
   "metadata": {},
   "outputs": [
    {
     "data": {
      "text/plain": [
       "set"
      ]
     },
     "execution_count": 8,
     "metadata": {},
     "output_type": "execute_result"
    }
   ],
   "source": [
    "s = {1,5.6,'sweet',False,2+7j}\n",
    "type(s) \n",
    "#set starts and ends with '{}' i.e. flower braces"
   ]
  },
  {
   "cell_type": "code",
   "execution_count": null,
   "id": "450c2da9",
   "metadata": {},
   "outputs": [
    {
     "data": {
      "text/plain": [
       "range"
      ]
     },
     "execution_count": 9,
     "metadata": {},
     "output_type": "execute_result"
    }
   ],
   "source": [
    "r = range(0,10)\n",
    "type(r)\n",
    "#range -> data type wich prints the integers between the given numbers \n",
    "#always prints upto 1 number less than the ending point"
   ]
  },
  {
   "cell_type": "code",
   "execution_count": null,
   "id": "e7ec3591",
   "metadata": {},
   "outputs": [
    {
     "data": {
      "text/plain": [
       "dict"
      ]
     },
     "execution_count": 10,
     "metadata": {},
     "output_type": "execute_result"
    }
   ],
   "source": [
    "dic = {'no':2}\n",
    "type(dic)\n",
    "#dict -> dictionary \n",
    "#consists of key-value pair, index works on key-based"
   ]
  }
 ],
 "metadata": {
  "kernelspec": {
   "display_name": "base",
   "language": "python",
   "name": "python3"
  },
  "language_info": {
   "codemirror_mode": {
    "name": "ipython",
    "version": 3
   },
   "file_extension": ".py",
   "mimetype": "text/x-python",
   "name": "python",
   "nbconvert_exporter": "python",
   "pygments_lexer": "ipython3",
   "version": "3.13.5"
  }
 },
 "nbformat": 4,
 "nbformat_minor": 5
}
