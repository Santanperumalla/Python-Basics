{
 "cells": [
  {
   "cell_type": "markdown",
   "id": "259f0294-ddfd-4738-b20b-6b77fa9e45cf",
   "metadata": {},
   "source": [
    "# 7-7-2025"
   ]
  },
  {
   "cell_type": "code",
   "execution_count": 35,
   "id": "b2bc9161-f0e3-4c2f-ab5d-74871e922867",
   "metadata": {},
   "outputs": [
    {
     "ename": "TypeError",
     "evalue": "type 'str' is not subscriptable",
     "output_type": "error",
     "traceback": [
      "\u001b[1;31m---------------------------------------------------------------------------\u001b[0m",
      "\u001b[1;31mTypeError\u001b[0m                                 Traceback (most recent call last)",
      "Cell \u001b[1;32mIn[35], line 1\u001b[0m\n\u001b[1;32m----> 1\u001b[0m a\u001b[38;5;241m=\u001b[39m\u001b[38;5;28mstr\u001b[39m[\u001b[38;5;241m5\u001b[39m]\n\u001b[0;32m      2\u001b[0m \u001b[38;5;28mprint\u001b[39m(a)\n",
      "\u001b[1;31mTypeError\u001b[0m: type 'str' is not subscriptable"
     ]
    }
   ],
   "source": [
    "a=str[5]"
   ]
  },
  {
   "cell_type": "code",
   "execution_count": 38,
   "id": "1db1c10f-1731-4fe2-ac0f-cfb5733ac813",
   "metadata": {},
   "outputs": [
    {
     "ename": "NameError",
     "evalue": "name 'jb' is not defined",
     "output_type": "error",
     "traceback": [
      "\u001b[1;31m---------------------------------------------------------------------------\u001b[0m",
      "\u001b[1;31mNameError\u001b[0m                                 Traceback (most recent call last)",
      "Cell \u001b[1;32mIn[38], line 1\u001b[0m\n\u001b[1;32m----> 1\u001b[0m c\u001b[38;5;241m=\u001b[39ma\u001b[38;5;241m+\u001b[39mjb\n\u001b[0;32m      2\u001b[0m \u001b[38;5;28mprint\u001b[39m(c)\n",
      "\u001b[1;31mNameError\u001b[0m: name 'jb' is not defined"
     ]
    }
   ],
   "source": [
    "c=a+jb\n",
    "print(c)"
   ]
  },
  {
   "cell_type": "code",
   "execution_count": 7,
   "id": "0dc3bb90-97c1-4806-a32e-989d6b1d9539",
   "metadata": {},
   "outputs": [],
   "source": [
    "a='manish is a cat'"
   ]
  },
  {
   "cell_type": "code",
   "execution_count": 8,
   "id": "2d638ad0-5da2-4ed7-a585-45d0064ea021",
   "metadata": {},
   "outputs": [
    {
     "data": {
      "text/plain": [
       "'tac a si'"
      ]
     },
     "execution_count": 8,
     "metadata": {},
     "output_type": "execute_result"
    }
   ],
   "source": [
    "a[:6:-1]"
   ]
  },
  {
   "cell_type": "code",
   "execution_count": 9,
   "id": "bc3ebbf4-2ba8-4d09-b502-b9680774bc91",
   "metadata": {},
   "outputs": [
    {
     "data": {
      "text/plain": [
       "'tac a '"
      ]
     },
     "execution_count": 9,
     "metadata": {},
     "output_type": "execute_result"
    }
   ],
   "source": [
    "a[-1:-7:-1]"
   ]
  },
  {
   "cell_type": "markdown",
   "id": "13300860-38aa-45fe-8925-e4cd0e82de0e",
   "metadata": {},
   "source": [
    "### *when my skip step is positive, the movement is in right hand side*\n",
    "### *if the skip is negative, movement is in left hand side*"
   ]
  },
  {
   "cell_type": "code",
   "execution_count": 2,
   "id": "10801ecf-89dc-4399-8cde-7f2e460b47c3",
   "metadata": {},
   "outputs": [],
   "source": [
    "s='christmas is around the corner'"
   ]
  },
  {
   "cell_type": "code",
   "execution_count": 25,
   "id": "a386f744-13ff-4cea-82a4-aa8ce3537a6d",
   "metadata": {},
   "outputs": [
    {
     "data": {
      "text/plain": [
       "'h'"
      ]
     },
     "execution_count": 25,
     "metadata": {},
     "output_type": "execute_result"
    }
   ],
   "source": [
    "s[-9]"
   ]
  },
  {
   "cell_type": "code",
   "execution_count": 26,
   "id": "f7ae36b0-6ee2-4c78-8bdb-31b4143983a5",
   "metadata": {},
   "outputs": [
    {
     "data": {
      "text/plain": [
       "'crsmsi rudtecre'"
      ]
     },
     "execution_count": 26,
     "metadata": {},
     "output_type": "execute_result"
    }
   ],
   "source": [
    "s[::2]"
   ]
  },
  {
   "cell_type": "code",
   "execution_count": 27,
   "id": "56cf10a6-f0fc-4a09-8bde-442d2d7267d8",
   "metadata": {},
   "outputs": [
    {
     "data": {
      "text/plain": [
       "'chris'"
      ]
     },
     "execution_count": 27,
     "metadata": {},
     "output_type": "execute_result"
    }
   ],
   "source": [
    "s[:5]"
   ]
  },
  {
   "cell_type": "code",
   "execution_count": 28,
   "id": "789c90e8-a4f2-47ed-9787-999c2653d32c",
   "metadata": {},
   "outputs": [
    {
     "data": {
      "text/plain": [
       "' cor'"
      ]
     },
     "execution_count": 28,
     "metadata": {},
     "output_type": "execute_result"
    }
   ],
   "source": [
    "s[-7:-3:1]"
   ]
  },
  {
   "cell_type": "code",
   "execution_count": 29,
   "id": "107bc147-49f2-4741-acc8-64c18506abdf",
   "metadata": {},
   "outputs": [
    {
     "data": {
      "text/plain": [
       "'renroc eht dnuora si samtsirhc'"
      ]
     },
     "execution_count": 29,
     "metadata": {},
     "output_type": "execute_result"
    }
   ],
   "source": [
    "s[::-1]"
   ]
  },
  {
   "cell_type": "code",
   "execution_count": 30,
   "id": "6b36f3f0-7ffc-47b9-a4f4-a9abe43eac8f",
   "metadata": {},
   "outputs": [
    {
     "data": {
      "text/plain": [
       "''"
      ]
     },
     "execution_count": 30,
     "metadata": {},
     "output_type": "execute_result"
    }
   ],
   "source": [
    "s[-7:23:1]"
   ]
  },
  {
   "cell_type": "code",
   "execution_count": 31,
   "id": "ff49f265-8e3e-435e-894d-4b000490c1a0",
   "metadata": {},
   "outputs": [
    {
     "data": {
      "text/plain": [
       "''"
      ]
     },
     "execution_count": 31,
     "metadata": {},
     "output_type": "execute_result"
    }
   ],
   "source": [
    "s[23:-7:1]"
   ]
  },
  {
   "cell_type": "code",
   "execution_count": 32,
   "id": "86ca26d8-d485-482c-9d37-7b0f24290ea5",
   "metadata": {},
   "outputs": [
    {
     "data": {
      "text/plain": [
       "''"
      ]
     },
     "execution_count": 32,
     "metadata": {},
     "output_type": "execute_result"
    }
   ],
   "source": [
    "s[23:-7:-1]"
   ]
  },
  {
   "cell_type": "code",
   "execution_count": 33,
   "id": "e8a4e02e-4f8e-495c-ae6a-668767fa2536",
   "metadata": {},
   "outputs": [
    {
     "data": {
      "text/plain": [
       "''"
      ]
     },
     "execution_count": 33,
     "metadata": {},
     "output_type": "execute_result"
    }
   ],
   "source": [
    "s[-7:-3:-1]"
   ]
  },
  {
   "cell_type": "markdown",
   "id": "218195c8-b991-4cd3-aca8-2512ee427f4b",
   "metadata": {},
   "source": [
    "## string methods \n",
    "- len()\n",
    "- count()\n",
    "- upper()\n",
    "- lower()\n",
    "- capitalize()\n",
    "- title()\n",
    "\n",
    "- find()\n",
    "- index()\n",
    "- replace()\n",
    "- split()\n",
    "- strip()\n",
    "\n",
    "- isdigit()\n",
    "- isalpha()\n",
    "- isalnum()"
   ]
  },
  {
   "cell_type": "code",
   "execution_count": 40,
   "id": "b4b6117d-5179-415a-9ace-ac90a9df1c01",
   "metadata": {},
   "outputs": [
    {
     "data": {
      "text/plain": [
       "30"
      ]
     },
     "execution_count": 40,
     "metadata": {},
     "output_type": "execute_result"
    }
   ],
   "source": [
    "len(s) #gives the length of strnig"
   ]
  },
  {
   "cell_type": "code",
   "execution_count": 45,
   "id": "dfe79e56-d48e-4686-8854-eca5ec352341",
   "metadata": {},
   "outputs": [
    {
     "data": {
      "text/plain": [
       "3"
      ]
     },
     "execution_count": 45,
     "metadata": {},
     "output_type": "execute_result"
    }
   ],
   "source": [
    "s.count('s') #gives the count of the repeated letters for given input"
   ]
  },
  {
   "cell_type": "code",
   "execution_count": 46,
   "id": "5ae480ed-7a53-454f-be8e-4315dab3db1a",
   "metadata": {},
   "outputs": [
    {
     "data": {
      "text/plain": [
       "'CHRISTMAS IS AROUND THE CORNER'"
      ]
     },
     "execution_count": 46,
     "metadata": {},
     "output_type": "execute_result"
    }
   ],
   "source": [
    "s.upper() #converts the total string into uppercase letters"
   ]
  },
  {
   "cell_type": "code",
   "execution_count": 47,
   "id": "2c2b9e73-6f2f-4756-82b6-16ccbf32d9ef",
   "metadata": {},
   "outputs": [
    {
     "data": {
      "text/plain": [
       "'christmas is around the corner'"
      ]
     },
     "execution_count": 47,
     "metadata": {},
     "output_type": "execute_result"
    }
   ],
   "source": [
    "s.lower() #converts the total string into lowercase letters"
   ]
  },
  {
   "cell_type": "code",
   "execution_count": 48,
   "id": "43949f01-3d8e-4c73-8eb8-d76389922813",
   "metadata": {},
   "outputs": [
    {
     "data": {
      "text/plain": [
       "'Christmas is around the corner'"
      ]
     },
     "execution_count": 48,
     "metadata": {},
     "output_type": "execute_result"
    }
   ],
   "source": [
    "s.capitalize() #capitalize the first letter of the string"
   ]
  },
  {
   "cell_type": "code",
   "execution_count": 49,
   "id": "439c9176-4ab8-4da0-9d6f-3e5cb126cb0c",
   "metadata": {},
   "outputs": [
    {
     "data": {
      "text/plain": [
       "'Christmas Is Around The Corner'"
      ]
     },
     "execution_count": 49,
     "metadata": {},
     "output_type": "execute_result"
    }
   ],
   "source": [
    "s.title() #capitalize the first letter in each word of the string "
   ]
  },
  {
   "cell_type": "code",
   "execution_count": 56,
   "id": "54f0355c-20eb-4c5f-bc69-ddf855201407",
   "metadata": {},
   "outputs": [
    {
     "data": {
      "text/plain": [
       "0"
      ]
     },
     "execution_count": 56,
     "metadata": {},
     "output_type": "execute_result"
    }
   ],
   "source": [
    "s.find('c') #finds the index value of the letter in string "
   ]
  },
  {
   "cell_type": "code",
   "execution_count": 55,
   "id": "1088630f-6a6c-4935-b657-1083ac9f5c23",
   "metadata": {},
   "outputs": [
    {
     "data": {
      "text/plain": [
       "0"
      ]
     },
     "execution_count": 55,
     "metadata": {},
     "output_type": "execute_result"
    }
   ],
   "source": [
    "s.index('c') #finds the index value of the letter in string "
   ]
  },
  {
   "cell_type": "code",
   "execution_count": 60,
   "id": "748fb23b-6e79-4ad9-a8ec-119f62946fa7",
   "metadata": {},
   "outputs": [
    {
     "data": {
      "text/plain": [
       "'chrhstmas hs around the corner'"
      ]
     },
     "execution_count": 60,
     "metadata": {},
     "output_type": "execute_result"
    }
   ],
   "source": [
    "s.replace('i','h') #replaces the first letter with the 2nd given letter in the total string "
   ]
  },
  {
   "cell_type": "code",
   "execution_count": 4,
   "id": "fb8d690d-7e50-4f81-9a9e-a41a21f8f1d0",
   "metadata": {},
   "outputs": [
    {
     "data": {
      "text/plain": [
       "['christmas', 'is', 'around', 'the', 'corner']"
      ]
     },
     "execution_count": 4,
     "metadata": {},
     "output_type": "execute_result"
    }
   ],
   "source": [
    "s.split() #splits the gaps and prints as seperate words"
   ]
  },
  {
   "cell_type": "code",
   "execution_count": 12,
   "id": "adb4887e-cad1-4f39-9d5f-671953f75c38",
   "metadata": {},
   "outputs": [
    {
     "data": {
      "text/plain": [
       "['chr', 'stmas ', 's around the corner']"
      ]
     },
     "execution_count": 12,
     "metadata": {},
     "output_type": "execute_result"
    }
   ],
   "source": [
    "s.split('i') #also splits the words from the letter which is given in input"
   ]
  },
  {
   "cell_type": "code",
   "execution_count": 3,
   "id": "7ad8f9a7-1ebd-4b35-913f-7f2e7633c7e8",
   "metadata": {},
   "outputs": [
    {
     "data": {
      "text/plain": [
       "'hristmas is around the corner'"
      ]
     },
     "execution_count": 3,
     "metadata": {},
     "output_type": "execute_result"
    }
   ],
   "source": [
    "s.strip('c') \n",
    "#removes the spaces in starting & ending points \n",
    "#also removes the characters from the string in starting point "
   ]
  },
  {
   "cell_type": "code",
   "execution_count": 77,
   "id": "5704500f-88e1-46ba-b324-d1d32357091d",
   "metadata": {},
   "outputs": [
    {
     "data": {
      "text/plain": [
       "'dxster'"
      ]
     },
     "execution_count": 77,
     "metadata": {},
     "output_type": "execute_result"
    }
   ],
   "source": [
    "a = ' dxster '\n",
    "a.strip()"
   ]
  },
  {
   "cell_type": "code",
   "execution_count": 86,
   "id": "96f1955c-6ceb-42b3-974e-5bf1e3727af5",
   "metadata": {},
   "outputs": [
    {
     "data": {
      "text/plain": [
       "False"
      ]
     },
     "execution_count": 86,
     "metadata": {},
     "output_type": "execute_result"
    }
   ],
   "source": [
    "s.isdigit() #finds the numericals, if yes then its true or else false ((doesnt accept special characters; ex:space))"
   ]
  },
  {
   "cell_type": "code",
   "execution_count": 87,
   "id": "5dd046f0-cb12-49c8-8b38-f4742602e4d6",
   "metadata": {},
   "outputs": [
    {
     "data": {
      "text/plain": [
       "False"
      ]
     },
     "execution_count": 87,
     "metadata": {},
     "output_type": "execute_result"
    }
   ],
   "source": [
    "s.isalpha() #finds the alphabets, if yes then its true or else false (doesnt accept special characters; ex:space)"
   ]
  },
  {
   "cell_type": "code",
   "execution_count": 85,
   "id": "d5ab778c-e482-41a5-a463-3d042e0a45fc",
   "metadata": {},
   "outputs": [
    {
     "data": {
      "text/plain": [
       "False"
      ]
     },
     "execution_count": 85,
     "metadata": {},
     "output_type": "execute_result"
    }
   ],
   "source": [
    "s.isalnum() #finds the alphabets & numericals, if yes then its true or else false (doesnt accept special characters; ex:space)"
   ]
  }
 ],
 "metadata": {
  "kernelspec": {
   "display_name": "Python [conda env:base] *",
   "language": "python",
   "name": "conda-base-py"
  },
  "language_info": {
   "codemirror_mode": {
    "name": "ipython",
    "version": 3
   },
   "file_extension": ".py",
   "mimetype": "text/x-python",
   "name": "python",
   "nbconvert_exporter": "python",
   "pygments_lexer": "ipython3",
   "version": "3.13.5"
  }
 },
 "nbformat": 4,
 "nbformat_minor": 5
}
