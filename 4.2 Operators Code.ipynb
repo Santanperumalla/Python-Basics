{
 "cells": [
  {
   "cell_type": "markdown",
   "id": "506edb00",
   "metadata": {},
   "source": [
    "# PYTHON-OPERATORS:\n",
    "## OPERATORS:\n",
    "- Operators are the special symbols or keywords that used to perform specific operations on variables & values "
   ]
  },
  {
   "cell_type": "markdown",
   "id": "7aa3fbe2",
   "metadata": {},
   "source": [
    "### TYPES:\n",
    "1. Arthematic Operators \n",
    "2. Assignment Operators \n",
    "3. Relational Operators \n",
    "4. Logical Operators \n",
    "5. Bitwise Operators \n",
    "6. Membership Operators\n",
    "7. Identity Operators "
   ]
  },
  {
   "cell_type": "markdown",
   "id": "6183b3c9",
   "metadata": {},
   "source": [
    "## ARTHEMATIC OPERATORS:\n",
    "- These operators helps you to perform different ***arthematical operations***\n",
    "- '+' -> addition \n",
    "- '-' -> subtraction\n",
    "- '*' -> multiplication\n",
    "- '/' -> division (result: **float**)\n",
    "- '//' -> floor division (result: **integer**)\n",
    "- '%' -> modulus (result: **remainder**)\n",
    "- '**' -> exponential (result: *power*)"
   ]
  },
  {
   "cell_type": "code",
   "execution_count": null,
   "id": "98ac4a9a",
   "metadata": {},
   "outputs": [],
   "source": [
    "a = 15\n",
    "b = 10\n",
    "#here we are assigning the values to the 2 different variables \n"
   ]
  },
  {
   "cell_type": "code",
   "execution_count": null,
   "id": "42130243",
   "metadata": {},
   "outputs": [
    {
     "data": {
      "text/plain": [
       "(25, 5, 150, 1.5, 1, 5, 576650390625)"
      ]
     },
     "metadata": {},
     "output_type": "display_data"
    }
   ],
   "source": [
    "#now, we use the different arthematic operators to those variables \n",
    "a+b, a-b, a*b, a/b, a//b, a%b, a**b\n",
    "#here you can see the list of values which are the results of above arthematic operators "
   ]
  },
  {
   "cell_type": "code",
   "execution_count": null,
   "id": "308ae2e1",
   "metadata": {},
   "outputs": [
    {
     "data": {
      "text/plain": [
       "25"
      ]
     },
     "metadata": {},
     "output_type": "display_data"
    }
   ],
   "source": [
    "a+b #addition"
   ]
  },
  {
   "cell_type": "code",
   "execution_count": null,
   "id": "941a5dd2",
   "metadata": {},
   "outputs": [
    {
     "data": {
      "text/plain": [
       "5"
      ]
     },
     "metadata": {},
     "output_type": "display_data"
    }
   ],
   "source": [
    "a-b #subtraction"
   ]
  },
  {
   "cell_type": "code",
   "execution_count": null,
   "id": "f4e4512c",
   "metadata": {},
   "outputs": [
    {
     "data": {
      "text/plain": [
       "150"
      ]
     },
     "metadata": {},
     "output_type": "display_data"
    }
   ],
   "source": [
    "a*b #multiplication"
   ]
  },
  {
   "cell_type": "code",
   "execution_count": null,
   "id": "ccde6398",
   "metadata": {},
   "outputs": [
    {
     "data": {
      "text/plain": [
       "1.5"
      ]
     },
     "metadata": {},
     "output_type": "display_data"
    }
   ],
   "source": [
    "a/b #division"
   ]
  },
  {
   "cell_type": "code",
   "execution_count": null,
   "id": "5e22c1ef",
   "metadata": {},
   "outputs": [
    {
     "data": {
      "text/plain": [
       "1"
      ]
     },
     "metadata": {},
     "output_type": "display_data"
    }
   ],
   "source": [
    "a//b #floor division\n"
   ]
  },
  {
   "cell_type": "code",
   "execution_count": null,
   "id": "a991c47a",
   "metadata": {},
   "outputs": [
    {
     "data": {
      "text/plain": [
       "5"
      ]
     },
     "metadata": {},
     "output_type": "display_data"
    }
   ],
   "source": [
    "a%b #modulus"
   ]
  },
  {
   "cell_type": "code",
   "execution_count": null,
   "id": "261f53ac",
   "metadata": {},
   "outputs": [
    {
     "data": {
      "text/plain": [
       "576650390625"
      ]
     },
     "metadata": {},
     "output_type": "display_data"
    }
   ],
   "source": [
    "a**b #exponential"
   ]
  },
  {
   "cell_type": "markdown",
   "id": "a2d15292",
   "metadata": {},
   "source": [
    "## RELATIONAL OPERATORS:\n",
    "These are the operators which helps in indicating the relation b/w two inputs are known as ***Relational Operators***\n",
    "1. '<'  -> Less than\n",
    "2. '>'  -> Greater than\n",
    "3. '<=' -> Less than or Equal to\n",
    "4. '>=' -> Greater than or Equal to\n",
    "5. '=='  -> Equal to\n",
    "6. '!='  -> Not Equal to"
   ]
  },
  {
   "cell_type": "code",
   "execution_count": null,
   "id": "1f5e69e0",
   "metadata": {},
   "outputs": [
    {
     "data": {
      "text/plain": [
       "False"
      ]
     },
     "metadata": {},
     "output_type": "display_data"
    }
   ],
   "source": [
    "a=8\n",
    "a==10 #using equal to operator,\n",
    "# it throws the answer is True (or) False "
   ]
  },
  {
   "cell_type": "code",
   "execution_count": null,
   "id": "d82b4541",
   "metadata": {},
   "outputs": [
    {
     "data": {
      "text/plain": [
       "True"
      ]
     },
     "metadata": {},
     "output_type": "display_data"
    }
   ],
   "source": [
    "a<10 #using less than operator"
   ]
  },
  {
   "cell_type": "code",
   "execution_count": null,
   "id": "d5f2a8dd",
   "metadata": {},
   "outputs": [
    {
     "data": {
      "text/plain": [
       "False"
      ]
     },
     "metadata": {},
     "output_type": "display_data"
    }
   ],
   "source": [
    "a>10 #using greater than operator"
   ]
  },
  {
   "cell_type": "code",
   "execution_count": null,
   "id": "15bb7c19",
   "metadata": {},
   "outputs": [
    {
     "data": {
      "text/plain": [
       "True"
      ]
     },
     "metadata": {},
     "output_type": "display_data"
    }
   ],
   "source": [
    "a<=10 #using less than or equal to operator"
   ]
  },
  {
   "cell_type": "code",
   "execution_count": null,
   "id": "7f5df6c8",
   "metadata": {},
   "outputs": [
    {
     "data": {
      "text/plain": [
       "False"
      ]
     },
     "metadata": {},
     "output_type": "display_data"
    }
   ],
   "source": [
    "a>=10 #using greater than or equal to operator  "
   ]
  },
  {
   "cell_type": "code",
   "execution_count": null,
   "id": "297e0bcf",
   "metadata": {},
   "outputs": [
    {
     "data": {
      "text/plain": [
       "True"
      ]
     },
     "metadata": {},
     "output_type": "display_data"
    }
   ],
   "source": [
    "a!=10 #using not equal to operator "
   ]
  },
  {
   "cell_type": "markdown",
   "id": "27cff09d",
   "metadata": {},
   "source": [
    "## LOGICAL OPERATORS:\n",
    "- The operators which works on principle of logic gates such as 'AND, OR, NOT are known as  ***Logical Operators***.\n",
    "- The output will always depends on truth tables of respective logic gates."
   ]
  },
  {
   "cell_type": "markdown",
   "id": "7c7d5676",
   "metadata": {},
   "source": [
    "### AND GATE:\n",
    "- The both inputs should be true, then only the output will be true\n",
    "- If any one input is false, then the output will also becomes false"
   ]
  },
  {
   "cell_type": "markdown",
   "id": "f8c1adf1",
   "metadata": {},
   "source": [
    "### OR GATE:\n",
    "- If one input is true, then the output will be true\n",
    "- If the both inputs are false, then the output will also becomes false"
   ]
  },
  {
   "cell_type": "markdown",
   "id": "ca39f2b8",
   "metadata": {},
   "source": [
    "### NOT GATE:\n",
    "- If the input is True, then the output will be False "
   ]
  },
  {
   "cell_type": "markdown",
   "id": "9ccb579b",
   "metadata": {},
   "source": [
    "## NOTE:\n",
    "```- Here True and False can also take as 0 & 1 ```"
   ]
  },
  {
   "cell_type": "code",
   "execution_count": null,
   "id": "20668777",
   "metadata": {},
   "outputs": [
    {
     "data": {
      "text/plain": [
       "False"
      ]
     },
     "metadata": {},
     "output_type": "display_data"
    }
   ],
   "source": [
    "a = True\n",
    "b = False\n",
    "a and b #using and operator, both should be true for resulting True "
   ]
  },
  {
   "cell_type": "code",
   "execution_count": null,
   "id": "8a43ec5e",
   "metadata": {},
   "outputs": [
    {
     "data": {
      "text/plain": [
       "True"
      ]
     },
     "metadata": {},
     "output_type": "display_data"
    }
   ],
   "source": [
    "a = True \n",
    "b = True \n",
    "a and b"
   ]
  },
  {
   "cell_type": "code",
   "execution_count": null,
   "id": "b9bfc991",
   "metadata": {},
   "outputs": [
    {
     "data": {
      "text/plain": [
       "True"
      ]
     },
     "metadata": {},
     "output_type": "display_data"
    }
   ],
   "source": [
    "a = True \n",
    "b = False \n",
    "a or b #using or operator, any should be True for resulting True "
   ]
  },
  {
   "cell_type": "code",
   "execution_count": null,
   "id": "6645ed01",
   "metadata": {},
   "outputs": [
    {
     "data": {
      "text/plain": [
       "False"
      ]
     },
     "metadata": {},
     "output_type": "display_data"
    }
   ],
   "source": [
    "a = False \n",
    "b = False \n",
    "a or b"
   ]
  },
  {
   "cell_type": "code",
   "execution_count": null,
   "id": "b189b62d",
   "metadata": {},
   "outputs": [
    {
     "data": {
      "text/plain": [
       "False"
      ]
     },
     "metadata": {},
     "output_type": "display_data"
    }
   ],
   "source": [
    "a = True \n",
    "not a #using not operator, resulting the opp value & 1 input is enough"
   ]
  },
  {
   "cell_type": "code",
   "execution_count": null,
   "id": "aa373699",
   "metadata": {},
   "outputs": [
    {
     "data": {
      "text/plain": [
       "True"
      ]
     },
     "metadata": {},
     "output_type": "display_data"
    }
   ],
   "source": [
    "a = False \n",
    "not a"
   ]
  },
  {
   "cell_type": "code",
   "execution_count": null,
   "id": "31e381e5",
   "metadata": {},
   "outputs": [
    {
     "data": {
      "text/plain": [
       "20"
      ]
     },
     "metadata": {},
     "output_type": "display_data"
    }
   ],
   "source": [
    "a = 10 \n",
    "b = 20\n",
    "a and b #using and operator here, resulting in conversion into binary and simplifying by logic gates"
   ]
  },
  {
   "cell_type": "code",
   "execution_count": null,
   "id": "be3b897c",
   "metadata": {},
   "outputs": [
    {
     "data": {
      "text/plain": [
       "10"
      ]
     },
     "metadata": {},
     "output_type": "display_data"
    }
   ],
   "source": [
    "a = 10 \n",
    "b = 20\n",
    "a or b #using or operator here, resulting in conversion into binary and simplifying by logic gates "
   ]
  },
  {
   "cell_type": "markdown",
   "id": "f0bb7ff6",
   "metadata": {},
   "source": [
    "## NOTE:\n",
    "- use can convert the decimal numbers into binary form by using the **below syntax**\n",
    "\n",
    "- **bin(a)** a -> refers to any decimal value "
   ]
  },
  {
   "cell_type": "code",
   "execution_count": null,
   "id": "a4838c90",
   "metadata": {},
   "outputs": [
    {
     "data": {
      "text/plain": [
       "'0b1010'"
      ]
     },
     "metadata": {},
     "output_type": "display_data"
    }
   ],
   "source": [
    "bin(10) #check the binary value from after b in the result"
   ]
  },
  {
   "cell_type": "code",
   "execution_count": null,
   "id": "429c806b",
   "metadata": {},
   "outputs": [
    {
     "data": {
      "text/plain": [
       "'0b1111'"
      ]
     },
     "metadata": {},
     "output_type": "display_data"
    }
   ],
   "source": [
    "bin(15)"
   ]
  },
  {
   "cell_type": "code",
   "execution_count": null,
   "id": "c87641df",
   "metadata": {},
   "outputs": [
    {
     "data": {
      "text/plain": [
       "'0b100000'"
      ]
     },
     "metadata": {},
     "output_type": "display_data"
    }
   ],
   "source": [
    "bin(32)"
   ]
  },
  {
   "cell_type": "markdown",
   "id": "1f8204af",
   "metadata": {},
   "source": [
    "```- the above result contains the binary value only right after from the '0b' ```"
   ]
  },
  {
   "cell_type": "markdown",
   "id": "2d8b9034",
   "metadata": {},
   "source": [
    "- use can convert the decimal numbers into hexa-decimal form by using the **below syntax**\n",
    "\n",
    "- **hex(a)**; a -> refers to any decimal value "
   ]
  },
  {
   "cell_type": "code",
   "execution_count": null,
   "id": "be37e204",
   "metadata": {},
   "outputs": [
    {
     "data": {
      "text/plain": [
       "'0xf'"
      ]
     },
     "metadata": {},
     "output_type": "display_data"
    }
   ],
   "source": [
    "hex(15)"
   ]
  },
  {
   "cell_type": "code",
   "execution_count": null,
   "id": "31bbea52",
   "metadata": {},
   "outputs": [
    {
     "data": {
      "text/plain": [
       "'0x1d'"
      ]
     },
     "metadata": {},
     "output_type": "display_data"
    }
   ],
   "source": [
    "hex(29)"
   ]
  },
  {
   "cell_type": "markdown",
   "id": "fd3c6878",
   "metadata": {},
   "source": [
    "```- the above result contains the hexa-decimal value only right after from the '0x' ```"
   ]
  },
  {
   "cell_type": "markdown",
   "id": "18fefbf5",
   "metadata": {},
   "source": [
    "## BITWISE OPERATORS:\n",
    "- These operators help in changing the bits of values with the conversion of binary numbers, they are known as ***'Bitwise Operators'.***"
   ]
  },
  {
   "cell_type": "markdown",
   "id": "587e32b3",
   "metadata": {},
   "source": [
    "1. '&'   -> AND - multiplies opp. values and output becomes 1\n",
    "2. '|'   -> OR - adds each value and output becomes 1, if any input value is 1\n",
    "3. '^'   -> X-OR - the output will be 1, if we have 2 different inputs (0x0=0; 0x1=1)\n",
    "4. '~'   -> NOT - it does the 2's compliment i.e.(1st 1's compliment and adds 1 to the result of 1's compliment) and it negates the result(-ve value)\n",
    "5. '>>'  -> RIGHT SHIFT - shifting the required bits to the right side of the given value \n",
    "6. '<<'  -> LEFT SHIFT - shifting the required bits to the left side of the given value "
   ]
  },
  {
   "cell_type": "markdown",
   "id": "849093ed",
   "metadata": {},
   "source": [
    "### AND OPERATOR: (&)\n",
    "'&' -> AND - multiplies opp. values and output becomes 1, if both inputs are 1"
   ]
  },
  {
   "cell_type": "code",
   "execution_count": null,
   "id": "932cf615",
   "metadata": {},
   "outputs": [
    {
     "data": {
      "text/plain": [
       "1"
      ]
     },
     "metadata": {},
     "output_type": "display_data"
    }
   ],
   "source": [
    "a = 5\n",
    "b = 3\n",
    "a & b #and operator - both binary values should be 1 to result binary value 1"
   ]
  },
  {
   "cell_type": "markdown",
   "id": "9b4e4365",
   "metadata": {},
   "source": [
    "### OR OPERATOR: (|)\n",
    "'|' -> OR - adds each value and output becomes 1, if any input value is 1"
   ]
  },
  {
   "cell_type": "code",
   "execution_count": null,
   "id": "6b53a37f",
   "metadata": {},
   "outputs": [
    {
     "data": {
      "text/plain": [
       "7"
      ]
     },
     "metadata": {},
     "output_type": "display_data"
    }
   ],
   "source": [
    "a = 5\n",
    "b = 3\n",
    "a | b #or operator - any binary value should be 1 to result binary value 1"
   ]
  },
  {
   "cell_type": "markdown",
   "id": "0dd91e27",
   "metadata": {},
   "source": [
    "### X-OR OPERATOR: (^)\n",
    "'^' -> X-OR - the output will be 1, if we have 2 different inputs (0x0=0; 0x1=1; 1x1=0)"
   ]
  },
  {
   "cell_type": "code",
   "execution_count": null,
   "id": "b062c862",
   "metadata": {},
   "outputs": [
    {
     "data": {
      "text/plain": [
       "6"
      ]
     },
     "metadata": {},
     "output_type": "display_data"
    }
   ],
   "source": [
    "a = 5 \n",
    "b = 3\n",
    "a ^ b #x-or operator - both binary value should not be same to result binary value 1 "
   ]
  },
  {
   "cell_type": "markdown",
   "id": "1976a758",
   "metadata": {},
   "source": [
    "### NOT OPERATOR: (~)\n",
    "'~'   -> NOT - it does the 2's compliment i.e.(1st 1's compliment and adds 1 to the result of 1's compliment) and it ***negates*** the result(-ve value)"
   ]
  },
  {
   "cell_type": "code",
   "execution_count": null,
   "id": "76acca44",
   "metadata": {},
   "outputs": [
    {
     "data": {
      "text/plain": [
       "-6"
      ]
     },
     "metadata": {},
     "output_type": "display_data"
    }
   ],
   "source": [
    "a = 5\n",
    "~a #not operator - result in opposite binary values with negative sign (-ve)"
   ]
  },
  {
   "cell_type": "code",
   "execution_count": null,
   "id": "44bddfb3",
   "metadata": {},
   "outputs": [
    {
     "data": {
      "text/plain": [
       "-18"
      ]
     },
     "metadata": {},
     "output_type": "display_data"
    }
   ],
   "source": [
    "~(12+5)"
   ]
  },
  {
   "cell_type": "markdown",
   "id": "dff364cb",
   "metadata": {},
   "source": [
    "### RIGHT SHIFT: (>>)\n",
    "'>>'  -> RIGHT SHIFT - shifting the required binary bits to the right side of the given value "
   ]
  },
  {
   "cell_type": "code",
   "execution_count": null,
   "id": "0a03711d",
   "metadata": {},
   "outputs": [
    {
     "data": {
      "text/plain": [
       "2"
      ]
     },
     "metadata": {},
     "output_type": "display_data"
    }
   ],
   "source": [
    "10 >> 2"
   ]
  },
  {
   "cell_type": "code",
   "execution_count": null,
   "id": "e163f47f",
   "metadata": {},
   "outputs": [
    {
     "data": {
      "text/plain": [
       "1"
      ]
     },
     "metadata": {},
     "output_type": "display_data"
    }
   ],
   "source": [
    "12 >> 3"
   ]
  },
  {
   "cell_type": "markdown",
   "id": "01b8dfbf",
   "metadata": {},
   "source": [
    "### LEFT SHIFT: (<<)\n",
    "'<<'  -> LEFT SHIFT - shifting the required binary bits to the left side of the given value "
   ]
  },
  {
   "cell_type": "code",
   "execution_count": null,
   "id": "928f2d83",
   "metadata": {},
   "outputs": [
    {
     "data": {
      "text/plain": [
       "60"
      ]
     },
     "metadata": {},
     "output_type": "display_data"
    }
   ],
   "source": [
    "15 << 2"
   ]
  },
  {
   "cell_type": "code",
   "execution_count": null,
   "id": "60994fd6",
   "metadata": {},
   "outputs": [
    {
     "data": {
      "text/plain": [
       "80"
      ]
     },
     "metadata": {},
     "output_type": "display_data"
    }
   ],
   "source": [
    "5 << 4"
   ]
  },
  {
   "cell_type": "markdown",
   "id": "77750983",
   "metadata": {},
   "source": [
    "## IDENTITY OPERATORS:\n",
    "- These are the operators which checks if the ***address stored*** in the two variables are ***same or different***\n",
    "1. **is**\n",
    "2. **is not**"
   ]
  },
  {
   "cell_type": "code",
   "execution_count": null,
   "id": "237c0bc6",
   "metadata": {},
   "outputs": [
    {
     "data": {
      "text/plain": [
       "True"
      ]
     },
     "metadata": {},
     "output_type": "display_data"
    }
   ],
   "source": [
    "a = 5\n",
    "b = 5\n",
    "a is b #it indicates that both variables are stored at same location"
   ]
  },
  {
   "cell_type": "code",
   "execution_count": null,
   "id": "6cf0a324",
   "metadata": {},
   "outputs": [
    {
     "data": {
      "text/plain": [
       "False"
      ]
     },
     "metadata": {},
     "output_type": "display_data"
    }
   ],
   "source": [
    "a = 'lf'\n",
    "b = 'lg'\n",
    "a is b #it indicates that the both values are not stored at same location "
   ]
  },
  {
   "cell_type": "code",
   "execution_count": null,
   "id": "4949a1a4",
   "metadata": {},
   "outputs": [
    {
     "data": {
      "text/plain": [
       "False"
      ]
     },
     "metadata": {},
     "output_type": "display_data"
    }
   ],
   "source": [
    "a = -4\n",
    "b = -4\n",
    "a is not b #both stored at same location, so False is in result"
   ]
  },
  {
   "cell_type": "markdown",
   "id": "e426926b",
   "metadata": {},
   "source": [
    "### Let's check that ID's of both variables same or not "
   ]
  },
  {
   "cell_type": "code",
   "execution_count": null,
   "id": "66a03b96",
   "metadata": {},
   "outputs": [
    {
     "name": "stdout",
     "output_type": "stream",
     "text": [
      "a 140715708371848\n",
      "b 140715708371848\n"
     ]
    },
    {
     "data": {
      "text/plain": [
       "True"
      ]
     },
     "metadata": {},
     "output_type": "display_data"
    }
   ],
   "source": [
    "a = 256\n",
    "print('a',id(a))\n",
    "b = 256\n",
    "print('b',id(b))\n",
    "a is b "
   ]
  },
  {
   "cell_type": "code",
   "execution_count": null,
   "id": "9a4b02a2",
   "metadata": {},
   "outputs": [
    {
     "name": "stdout",
     "output_type": "stream",
     "text": [
      "a 2582287857056\n",
      "b 2582289514192\n"
     ]
    },
    {
     "data": {
      "text/plain": [
       "False"
      ]
     },
     "metadata": {},
     "output_type": "display_data"
    }
   ],
   "source": [
    "a = 'rahul'\n",
    "print('a',id(a))\n",
    "b = 'ravi'\n",
    "print('b',id(b))\n",
    "a is b"
   ]
  },
  {
   "cell_type": "markdown",
   "id": "9eb195c4",
   "metadata": {},
   "source": [
    "### NOTE:\n",
    "```- positive values upto 256 stores at same location ```\n",
    "\n",
    "```- negative values upto -5 stroes at same location ```"
   ]
  },
  {
   "cell_type": "markdown",
   "id": "6f13e347",
   "metadata": {},
   "source": [
    "## MEMBERSHIP OPERATORS:\n",
    "- It checks the ***existence of a value*** is also ***present in another value or not***.\n",
    "1. **in**\n",
    "2. **not in**"
   ]
  },
  {
   "cell_type": "code",
   "execution_count": null,
   "id": "4a0ad11c",
   "metadata": {},
   "outputs": [
    {
     "data": {
      "text/plain": [
       "True"
      ]
     },
     "metadata": {},
     "output_type": "display_data"
    }
   ],
   "source": [
    "a = 'freedom'\n",
    "b = 'fr'\n",
    "b in a #here 'fr' is present in above 'freedom', so the result is True "
   ]
  },
  {
   "cell_type": "code",
   "execution_count": null,
   "id": "4408f512",
   "metadata": {},
   "outputs": [
    {
     "data": {
      "text/plain": [
       "False"
      ]
     },
     "metadata": {},
     "output_type": "display_data"
    }
   ],
   "source": [
    "a = 'freedom'\n",
    "b = 'fr'\n",
    "a in b #here 'eedom' from 'freedom' is not present in 'fr', so the result is False "
   ]
  },
  {
   "cell_type": "code",
   "execution_count": null,
   "id": "07f11b4d",
   "metadata": {},
   "outputs": [
    {
     "ename": "TypeError",
     "evalue": "argument of type 'int' is not iterable",
     "output_type": "error",
     "traceback": [
      "\u001b[1;31m---------------------------------------------------------------------------\u001b[0m\n",
      "\u001b[1;31mTypeError\u001b[0m                                 Traceback (most recent call last)\n",
      "Cell \u001b[1;32mIn[45], line 3\u001b[0m\n",
      "\u001b[0;32m      1\u001b[0m a \u001b[38;5;241m=\u001b[39m \u001b[38;5;241m4\u001b[39m\n",
      "\u001b[0;32m      2\u001b[0m b \u001b[38;5;241m=\u001b[39m \u001b[38;5;241m24\u001b[39m\n",
      "\u001b[1;32m----> 3\u001b[0m b \u001b[38;5;129;01min\u001b[39;00m a\n",
      "\n",
      "\u001b[1;31mTypeError\u001b[0m: argument of type 'int' is not iterable"
     ]
    }
   ],
   "source": [
    "a = 4\n",
    "b = 24\n",
    "b in a"
   ]
  },
  {
   "cell_type": "markdown",
   "id": "7cd85ddc",
   "metadata": {},
   "source": [
    "### NOTE:\n",
    "```- the membership operators does'nt support the integers as they are not iterable ```"
   ]
  }
 ],
 "metadata": {
  "kernelspec": {
   "display_name": "base",
   "language": "python",
   "name": "python3"
  },
  "language_info": {
   "name": "python",
   "version": "3.13.5"
  }
 },
 "nbformat": 4,
 "nbformat_minor": 5
}
