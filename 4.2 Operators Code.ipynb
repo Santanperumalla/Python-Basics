{
 "cells": [
  {
   "cell_type": "markdown",
   "id": "b88cd148",
   "metadata": {},
   "source": [
    "# PYTHON-OPERATORS:\n",
    "## OPERATORS:\n",
    "- Operators are the special symbols or keywords that used to perform specific operations on variables & values "
   ]
  },
  {
   "cell_type": "markdown",
   "id": "f7ae126e",
   "metadata": {},
   "source": [
    "### TYPES:\n",
    "1. Arthematic Operators \n",
    "2. Assignment Operators \n",
    "3. Relational Operators \n",
    "4. Logical Operators \n",
    "5. Bitwise Operators \n",
    "6. Membership Operators\n",
    "7. Identity Operators "
   ]
  },
  {
   "cell_type": "markdown",
   "id": "85824d26",
   "metadata": {},
   "source": [
    "## ARTHEMATIC OPERATORS:\n",
    "- These operators helps you to perform different arthematical operations\n",
    "- '+' -> addition \n",
    "- '-' -> subtraction\n",
    "- '*' -> multiplication\n",
    "- '/' -> division (result: **float**)\n",
    "- '//' -> floor division (result: **integer**)\n",
    "- '%' -> modulus (result: **remainder**)\n",
    "- '**' -> exponential (result: *power*)"
   ]
  },
  {
   "cell_type": "code",
   "execution_count": 2,
   "id": "7b70f167",
   "metadata": {},
   "outputs": [],
   "source": [
    "a = 15\n",
    "b = 10\n",
    "#here we are assigning the values to the 2 different variables \n"
   ]
  },
  {
   "cell_type": "code",
   "execution_count": 4,
   "id": "f9a5bebe",
   "metadata": {},
   "outputs": [
    {
     "data": {
      "text/plain": [
       "(25, 5, 150, 1.5, 1, 5, 576650390625)"
      ]
     },
     "execution_count": 4,
     "metadata": {},
     "output_type": "execute_result"
    }
   ],
   "source": [
    "#now, we use the different arthematic operators to those variables \n",
    "a+b, a-b, a*b, a/b, a//b, a%b, a**b\n",
    "#here you can see the list of values which are the results of above arthematic operators "
   ]
  },
  {
   "cell_type": "code",
   "execution_count": 5,
   "id": "46b9c7d6",
   "metadata": {},
   "outputs": [
    {
     "data": {
      "text/plain": [
       "25"
      ]
     },
     "execution_count": 5,
     "metadata": {},
     "output_type": "execute_result"
    }
   ],
   "source": [
    "a+b #addition"
   ]
  },
  {
   "cell_type": "code",
   "execution_count": 6,
   "id": "1c537e0d",
   "metadata": {},
   "outputs": [
    {
     "data": {
      "text/plain": [
       "5"
      ]
     },
     "execution_count": 6,
     "metadata": {},
     "output_type": "execute_result"
    }
   ],
   "source": [
    "a-b #subtraction"
   ]
  },
  {
   "cell_type": "code",
   "execution_count": 7,
   "id": "585f769e",
   "metadata": {},
   "outputs": [
    {
     "data": {
      "text/plain": [
       "150"
      ]
     },
     "execution_count": 7,
     "metadata": {},
     "output_type": "execute_result"
    }
   ],
   "source": [
    "a*b #multiplication"
   ]
  },
  {
   "cell_type": "code",
   "execution_count": 8,
   "id": "8d251518",
   "metadata": {},
   "outputs": [
    {
     "data": {
      "text/plain": [
       "1.5"
      ]
     },
     "execution_count": 8,
     "metadata": {},
     "output_type": "execute_result"
    }
   ],
   "source": [
    "a/b #division"
   ]
  },
  {
   "cell_type": "code",
   "execution_count": 9,
   "id": "3435e501",
   "metadata": {},
   "outputs": [
    {
     "data": {
      "text/plain": [
       "1"
      ]
     },
     "execution_count": 9,
     "metadata": {},
     "output_type": "execute_result"
    }
   ],
   "source": [
    "a//b #floor division\n"
   ]
  },
  {
   "cell_type": "code",
   "execution_count": 10,
   "id": "481efa78",
   "metadata": {},
   "outputs": [
    {
     "data": {
      "text/plain": [
       "5"
      ]
     },
     "execution_count": 10,
     "metadata": {},
     "output_type": "execute_result"
    }
   ],
   "source": [
    "a%b #modulus"
   ]
  },
  {
   "cell_type": "code",
   "execution_count": 11,
   "id": "e9d30646",
   "metadata": {},
   "outputs": [
    {
     "data": {
      "text/plain": [
       "576650390625"
      ]
     },
     "execution_count": 11,
     "metadata": {},
     "output_type": "execute_result"
    }
   ],
   "source": [
    "a**b #exponential"
   ]
  },
  {
   "cell_type": "markdown",
   "id": "e3732f3f",
   "metadata": {},
   "source": [
    "## RELATIONAL OPERATORS:\n",
    "These are the operators which helps in indicating the relation b/w two inputs are known as Relational Operators\n",
    "1. '<'  -> Less than\n",
    "2. '>'  -> Greater than\n",
    "3. '<=' -> Less than or Equal to\n",
    "4. '>=' -> Greater than or Equal to\n",
    "5. '=='  -> Equal to\n",
    "6. '!='  -> Not Equal to"
   ]
  },
  {
   "cell_type": "code",
   "execution_count": 18,
   "id": "e6bec6ac",
   "metadata": {},
   "outputs": [
    {
     "data": {
      "text/plain": [
       "False"
      ]
     },
     "execution_count": 18,
     "metadata": {},
     "output_type": "execute_result"
    }
   ],
   "source": [
    "a=8\n",
    "a==10 #using equal to operator,\n",
    "# it throws the answer is True (or) False "
   ]
  },
  {
   "cell_type": "code",
   "execution_count": 14,
   "id": "feae97b9",
   "metadata": {},
   "outputs": [
    {
     "data": {
      "text/plain": [
       "True"
      ]
     },
     "execution_count": 14,
     "metadata": {},
     "output_type": "execute_result"
    }
   ],
   "source": [
    "a<10 #using less than operator"
   ]
  },
  {
   "cell_type": "code",
   "execution_count": 15,
   "id": "7da86de6",
   "metadata": {},
   "outputs": [
    {
     "data": {
      "text/plain": [
       "False"
      ]
     },
     "execution_count": 15,
     "metadata": {},
     "output_type": "execute_result"
    }
   ],
   "source": [
    "a>10 #using greater than operator"
   ]
  },
  {
   "cell_type": "code",
   "execution_count": null,
   "id": "04705fad",
   "metadata": {},
   "outputs": [
    {
     "data": {
      "text/plain": [
       "True"
      ]
     },
     "execution_count": 16,
     "metadata": {},
     "output_type": "execute_result"
    }
   ],
   "source": [
    "a<=10 #using less than or equal to operator"
   ]
  },
  {
   "cell_type": "code",
   "execution_count": 17,
   "id": "d8ad1e3d",
   "metadata": {},
   "outputs": [
    {
     "data": {
      "text/plain": [
       "False"
      ]
     },
     "execution_count": 17,
     "metadata": {},
     "output_type": "execute_result"
    }
   ],
   "source": [
    "a>=10 #using greater than or equal to operator  "
   ]
  },
  {
   "cell_type": "code",
   "execution_count": 19,
   "id": "49f73b0c",
   "metadata": {},
   "outputs": [
    {
     "data": {
      "text/plain": [
       "True"
      ]
     },
     "execution_count": 19,
     "metadata": {},
     "output_type": "execute_result"
    }
   ],
   "source": [
    "a!=10 #using not equal to operator "
   ]
  },
  {
   "cell_type": "markdown",
   "id": "33f59500",
   "metadata": {},
   "source": [
    "## LOGICAL OPERATORS:\n",
    "- The operators which works on principle of logic gates such as 'AND, OR, NOT are known as  ***Logical Operators***.\n",
    "- The output will always depends on truth tables of respective logic gates."
   ]
  },
  {
   "cell_type": "markdown",
   "id": "be2aa5ac",
   "metadata": {},
   "source": [
    "### AND GATE:\n",
    "- The both inputs should be true, then only the output will be true\n",
    "- If any one input is false, then the output will also becomes false"
   ]
  },
  {
   "cell_type": "markdown",
   "id": "8fd5f56e",
   "metadata": {},
   "source": [
    "### OR GATE:\n",
    "- If one input is true, then the output will be true\n",
    "- If the both inputs are false, then the output will also becomes false"
   ]
  },
  {
   "cell_type": "markdown",
   "id": "5f0ec331",
   "metadata": {},
   "source": [
    "### NOT GATE:\n",
    "- If the input is True, then the output will be False "
   ]
  },
  {
   "cell_type": "markdown",
   "id": "89fc3fc7",
   "metadata": {},
   "source": [
    "## NOTE:\n",
    "- Here True and False can also take as 0 & 1 "
   ]
  },
  {
   "cell_type": "code",
   "execution_count": null,
   "id": "eea5c9a8",
   "metadata": {},
   "outputs": [
    {
     "data": {
      "text/plain": [
       "False"
      ]
     },
     "execution_count": 20,
     "metadata": {},
     "output_type": "execute_result"
    }
   ],
   "source": [
    "a = True\n",
    "b = False\n",
    "a and b #using and operator, both should be true for resulting True "
   ]
  },
  {
   "cell_type": "code",
   "execution_count": 21,
   "id": "40a4a1c0",
   "metadata": {},
   "outputs": [
    {
     "data": {
      "text/plain": [
       "True"
      ]
     },
     "execution_count": 21,
     "metadata": {},
     "output_type": "execute_result"
    }
   ],
   "source": [
    "a = True \n",
    "b = True \n",
    "a and b"
   ]
  },
  {
   "cell_type": "code",
   "execution_count": 22,
   "id": "b6c403f3",
   "metadata": {},
   "outputs": [
    {
     "data": {
      "text/plain": [
       "True"
      ]
     },
     "execution_count": 22,
     "metadata": {},
     "output_type": "execute_result"
    }
   ],
   "source": [
    "a = True \n",
    "b = False \n",
    "a or b #using or operator, any should be True for resulting True "
   ]
  },
  {
   "cell_type": "code",
   "execution_count": 23,
   "id": "4e5ac787",
   "metadata": {},
   "outputs": [
    {
     "data": {
      "text/plain": [
       "False"
      ]
     },
     "execution_count": 23,
     "metadata": {},
     "output_type": "execute_result"
    }
   ],
   "source": [
    "a = False \n",
    "b = False \n",
    "a or b"
   ]
  },
  {
   "cell_type": "code",
   "execution_count": 24,
   "id": "ebdb22b6",
   "metadata": {},
   "outputs": [
    {
     "data": {
      "text/plain": [
       "False"
      ]
     },
     "execution_count": 24,
     "metadata": {},
     "output_type": "execute_result"
    }
   ],
   "source": [
    "a = True \n",
    "not a #using not operator, resulting the opp value & 1 input is enough"
   ]
  },
  {
   "cell_type": "code",
   "execution_count": 25,
   "id": "6f9d7eb0",
   "metadata": {},
   "outputs": [
    {
     "data": {
      "text/plain": [
       "True"
      ]
     },
     "execution_count": 25,
     "metadata": {},
     "output_type": "execute_result"
    }
   ],
   "source": [
    "a = False \n",
    "not a"
   ]
  },
  {
   "cell_type": "code",
   "execution_count": 27,
   "id": "1562b0ac",
   "metadata": {},
   "outputs": [
    {
     "data": {
      "text/plain": [
       "20"
      ]
     },
     "execution_count": 27,
     "metadata": {},
     "output_type": "execute_result"
    }
   ],
   "source": [
    "a = 10 \n",
    "b = 20\n",
    "a and b #using and operator here, resulting in conversion into binary and simplifying by logic gates"
   ]
  },
  {
   "cell_type": "code",
   "execution_count": 28,
   "id": "5da49c4f",
   "metadata": {},
   "outputs": [
    {
     "data": {
      "text/plain": [
       "10"
      ]
     },
     "execution_count": 28,
     "metadata": {},
     "output_type": "execute_result"
    }
   ],
   "source": [
    "a = 10 \n",
    "b = 20\n",
    "a or b #using or operator here, resulting in conversion into binary and simplifying by logic gates "
   ]
  },
  {
   "cell_type": "markdown",
   "id": "27b71efd",
   "metadata": {},
   "source": [
    "## NOTE:\n",
    "```- use can convert the decimal numbers into binary form by using the **below syntax**```\n",
    "\n",
    "```- **bin(a)** a -> refers to any decimal value ```"
   ]
  },
  {
   "cell_type": "code",
   "execution_count": null,
   "id": "80f55dbe",
   "metadata": {},
   "outputs": [
    {
     "data": {
      "text/plain": [
       "'0b1010'"
      ]
     },
     "execution_count": 29,
     "metadata": {},
     "output_type": "execute_result"
    }
   ],
   "source": [
    "bin(10) #check the binary value from after b in the result"
   ]
  },
  {
   "cell_type": "code",
   "execution_count": 31,
   "id": "55d94da1",
   "metadata": {},
   "outputs": [
    {
     "data": {
      "text/plain": [
       "'0b1111'"
      ]
     },
     "execution_count": 31,
     "metadata": {},
     "output_type": "execute_result"
    }
   ],
   "source": [
    "bin(15)"
   ]
  },
  {
   "cell_type": "code",
   "execution_count": 32,
   "id": "2e0d4ab8",
   "metadata": {},
   "outputs": [
    {
     "data": {
      "text/plain": [
       "'0b100000'"
      ]
     },
     "execution_count": 32,
     "metadata": {},
     "output_type": "execute_result"
    }
   ],
   "source": [
    "bin(32)"
   ]
  },
  {
   "cell_type": "markdown",
   "id": "1f14199d",
   "metadata": {},
   "source": [
    "```- use can convert the decimal numbers into hexa-decimal form by using the **below syntax**```\n",
    "\n",
    "```- **hex(a)**; a -> refers to any decimal value ```"
   ]
  },
  {
   "cell_type": "code",
   "execution_count": 34,
   "id": "28d9671c",
   "metadata": {},
   "outputs": [
    {
     "data": {
      "text/plain": [
       "'0xf'"
      ]
     },
     "execution_count": 34,
     "metadata": {},
     "output_type": "execute_result"
    }
   ],
   "source": [
    "hex(15)"
   ]
  },
  {
   "cell_type": "code",
   "execution_count": 37,
   "id": "5bfb3142",
   "metadata": {},
   "outputs": [
    {
     "data": {
      "text/plain": [
       "'0x1d'"
      ]
     },
     "execution_count": 37,
     "metadata": {},
     "output_type": "execute_result"
    }
   ],
   "source": [
    "hex(29)"
   ]
  },
  {
   "cell_type": "markdown",
   "id": "bb64eca9",
   "metadata": {},
   "source": [
    "## BITWISE OPERATORS:\n",
    "- These operators help in changing the bits of values with the conversion of binary numbers, they are known as ***'Bitwise Operators'.***"
   ]
  },
  {
   "cell_type": "markdown",
   "id": "b8129c19",
   "metadata": {},
   "source": [
    "1. '&'   -> AND - multiplies opp. values and output becomes 1\n",
    "2. '|'   -> OR - adds each value and output becomes 1, if any input value is 1\n",
    "3. '^'   -> X-OR - the output will be 1, if we have 2 different inputs (0x0=0; 0x1=1)\n",
    "4. '~'   -> NOT - it does the 2's compliment i.e.(1st 1's compliment and adds 1 to the result of 1's compliment) and it negates the result(-ve value)\n",
    "5. '>>'  -> RIGHT SHIFT - shifting the required bits to the right side of the given value \n",
    "6. '<<'  -> LEFT SHIFT - shifting the required bits to the left side of the given value "
   ]
  },
  {
   "cell_type": "markdown",
   "id": "c09d5932",
   "metadata": {},
   "source": [
    "### AND OPERATOR: (&)\n",
    "'&' -> AND - multiplies opp. values and output becomes 1, if both inputs are 1"
   ]
  },
  {
   "cell_type": "code",
   "execution_count": null,
   "id": "844a9717",
   "metadata": {},
   "outputs": [
    {
     "data": {
      "text/plain": [
       "1"
      ]
     },
     "execution_count": 39,
     "metadata": {},
     "output_type": "execute_result"
    }
   ],
   "source": [
    "a = 5\n",
    "b = 3\n",
    "a & b #and operator - both binary values should be 1 to result binary value 1"
   ]
  },
  {
   "cell_type": "markdown",
   "id": "70d32df0",
   "metadata": {},
   "source": [
    "### OR OPERATOR: (|)\n",
    "'|' -> OR - adds each value and output becomes 1, if any input value is 1"
   ]
  },
  {
   "cell_type": "code",
   "execution_count": null,
   "id": "d1c1ff1e",
   "metadata": {},
   "outputs": [
    {
     "data": {
      "text/plain": [
       "7"
      ]
     },
     "execution_count": 40,
     "metadata": {},
     "output_type": "execute_result"
    }
   ],
   "source": [
    "a = 5\n",
    "b = 3\n",
    "a | b #or operator - any binary value should be 1 to result binary value 1"
   ]
  },
  {
   "cell_type": "markdown",
   "id": "b2e69cb7",
   "metadata": {},
   "source": [
    "### X-OR OPERATOR: (^)\n",
    "'^' -> X-OR - the output will be 1, if we have 2 different inputs (0x0=0; 0x1=1; 1x1=0)"
   ]
  },
  {
   "cell_type": "code",
   "execution_count": 41,
   "id": "fe60db45",
   "metadata": {},
   "outputs": [
    {
     "data": {
      "text/plain": [
       "6"
      ]
     },
     "execution_count": 41,
     "metadata": {},
     "output_type": "execute_result"
    }
   ],
   "source": [
    "a = 5 \n",
    "b = 3\n",
    "a ^ b #x-or operator - both binary value should not be same to result binary value 1 "
   ]
  },
  {
   "cell_type": "markdown",
   "id": "3d512983",
   "metadata": {},
   "source": [
    "### NOT OPERATOR: (~)\n",
    "'~'   -> NOT - it does the 2's compliment i.e.(1st 1's compliment and adds 1 to the result of 1's compliment) and it ***negates*** the result(-ve value)"
   ]
  },
  {
   "cell_type": "code",
   "execution_count": 43,
   "id": "cbe5fa2e",
   "metadata": {},
   "outputs": [
    {
     "data": {
      "text/plain": [
       "-6"
      ]
     },
     "execution_count": 43,
     "metadata": {},
     "output_type": "execute_result"
    }
   ],
   "source": [
    "a = 5\n",
    "~a #not operator - result in opposite binary values with negative sign (-ve)"
   ]
  },
  {
   "cell_type": "code",
   "execution_count": 44,
   "id": "7201fe85",
   "metadata": {},
   "outputs": [
    {
     "data": {
      "text/plain": [
       "-18"
      ]
     },
     "execution_count": 44,
     "metadata": {},
     "output_type": "execute_result"
    }
   ],
   "source": [
    "~(12+5)"
   ]
  },
  {
   "cell_type": "markdown",
   "id": "9aa5f647",
   "metadata": {},
   "source": [
    "### RIGHT SHIFT: (>>)\n",
    "'>>'  -> RIGHT SHIFT - shifting the required binary bits to the right side of the given value "
   ]
  },
  {
   "cell_type": "code",
   "execution_count": null,
   "id": "13c257b0",
   "metadata": {},
   "outputs": [
    {
     "data": {
      "text/plain": [
       "2"
      ]
     },
     "execution_count": 45,
     "metadata": {},
     "output_type": "execute_result"
    }
   ],
   "source": [
    "10 >> 2"
   ]
  },
  {
   "cell_type": "code",
   "execution_count": 47,
   "id": "0a722afc",
   "metadata": {},
   "outputs": [
    {
     "data": {
      "text/plain": [
       "1"
      ]
     },
     "execution_count": 47,
     "metadata": {},
     "output_type": "execute_result"
    }
   ],
   "source": [
    "12 >> 3"
   ]
  },
  {
   "cell_type": "markdown",
   "id": "6062ebe5",
   "metadata": {},
   "source": [
    "### LEFT SHIFT: (<<)\n",
    "'<<'  -> LEFT SHIFT - shifting the required binary bits to the left side of the given value "
   ]
  },
  {
   "cell_type": "code",
   "execution_count": 48,
   "id": "3719428d",
   "metadata": {},
   "outputs": [
    {
     "data": {
      "text/plain": [
       "60"
      ]
     },
     "execution_count": 48,
     "metadata": {},
     "output_type": "execute_result"
    }
   ],
   "source": [
    "15 << 2"
   ]
  },
  {
   "cell_type": "code",
   "execution_count": 49,
   "id": "e125c977",
   "metadata": {},
   "outputs": [
    {
     "data": {
      "text/plain": [
       "80"
      ]
     },
     "execution_count": 49,
     "metadata": {},
     "output_type": "execute_result"
    }
   ],
   "source": [
    "5 << 4"
   ]
  },
  {
   "cell_type": "markdown",
   "id": "b151dde3",
   "metadata": {},
   "source": [
    "## IDENTITY OPERATORS:\n",
    "- These are the operators which checks if the address stored in the two variables are same or different\n",
    "1. **is**\n",
    "2. **is not**"
   ]
  },
  {
   "cell_type": "code",
   "execution_count": null,
   "id": "a77dd03c",
   "metadata": {},
   "outputs": [
    {
     "data": {
      "text/plain": [
       "True"
      ]
     },
     "execution_count": 50,
     "metadata": {},
     "output_type": "execute_result"
    }
   ],
   "source": [
    "a = 5\n",
    "b = 5\n",
    "a is b #it indicates that both variables are stored at same location"
   ]
  },
  {
   "cell_type": "code",
   "execution_count": null,
   "id": "038b70f5",
   "metadata": {},
   "outputs": [
    {
     "data": {
      "text/plain": [
       "False"
      ]
     },
     "execution_count": 51,
     "metadata": {},
     "output_type": "execute_result"
    }
   ],
   "source": [
    "a = 'lf'\n",
    "b = 'lg'\n",
    "a is b #it indicates that the both values are not stored at same location "
   ]
  },
  {
   "cell_type": "code",
   "execution_count": null,
   "id": "137f9094",
   "metadata": {},
   "outputs": [
    {
     "data": {
      "text/plain": [
       "False"
      ]
     },
     "execution_count": 52,
     "metadata": {},
     "output_type": "execute_result"
    }
   ],
   "source": [
    "a = -4\n",
    "b = -4\n",
    "a is not b #both stored at same location, so False is in result"
   ]
  },
  {
   "cell_type": "markdown",
   "id": "f2af7742",
   "metadata": {},
   "source": [
    "### Let's check that ID's of both variables same or not "
   ]
  },
  {
   "cell_type": "code",
   "execution_count": 54,
   "id": "f5162f45",
   "metadata": {},
   "outputs": [
    {
     "name": "stdout",
     "output_type": "stream",
     "text": [
      "a 140715708371848\n",
      "b 140715708371848\n"
     ]
    },
    {
     "data": {
      "text/plain": [
       "True"
      ]
     },
     "execution_count": 54,
     "metadata": {},
     "output_type": "execute_result"
    }
   ],
   "source": [
    "a = 256\n",
    "print('a',id(a))\n",
    "b = 256\n",
    "print('b',id(b))\n",
    "a is b "
   ]
  },
  {
   "cell_type": "code",
   "execution_count": 55,
   "id": "362dc3f5",
   "metadata": {},
   "outputs": [
    {
     "name": "stdout",
     "output_type": "stream",
     "text": [
      "a 2876787361376\n",
      "b 2876789752192\n"
     ]
    },
    {
     "data": {
      "text/plain": [
       "False"
      ]
     },
     "execution_count": 55,
     "metadata": {},
     "output_type": "execute_result"
    }
   ],
   "source": [
    "a = 'rahul'\n",
    "print('a',id(a))\n",
    "b = 'ravi'\n",
    "print('b',id(b))\n",
    "a is b"
   ]
  },
  {
   "cell_type": "markdown",
   "id": "a421b119",
   "metadata": {},
   "source": [
    "### NOTE:\n",
    "```- positive values upto 256 stores at same location ```\n",
    "\n",
    "```- negative values upto -5 stroes at same location ```"
   ]
  },
  {
   "cell_type": "markdown",
   "id": "2f7e3c2e",
   "metadata": {},
   "source": [
    "## MEMBERSHIP OPERATORS:\n",
    "- It checks the existence of a value is also present in another value or not \n",
    "1. **in**\n",
    "2. **not in**"
   ]
  },
  {
   "cell_type": "code",
   "execution_count": null,
   "id": "c6e4c5ee",
   "metadata": {},
   "outputs": [
    {
     "data": {
      "text/plain": [
       "True"
      ]
     },
     "execution_count": 57,
     "metadata": {},
     "output_type": "execute_result"
    }
   ],
   "source": [
    "a = 'freedom'\n",
    "b = 'fr'\n",
    "b in a #here 'fr' is present in above 'freedom', so the result is True "
   ]
  },
  {
   "cell_type": "code",
   "execution_count": 59,
   "id": "c7de0df1",
   "metadata": {},
   "outputs": [
    {
     "data": {
      "text/plain": [
       "False"
      ]
     },
     "execution_count": 59,
     "metadata": {},
     "output_type": "execute_result"
    }
   ],
   "source": [
    "a = 'freedom'\n",
    "b = 'fr'\n",
    "a in b #here 'eedom' from 'freedom' is not present in 'fr', so the result is False "
   ]
  },
  {
   "cell_type": "code",
   "execution_count": null,
   "id": "49f38f89",
   "metadata": {},
   "outputs": [
    {
     "ename": "TypeError",
     "evalue": "argument of type 'int' is not iterable",
     "output_type": "error",
     "traceback": [
      "\u001b[1;31m---------------------------------------------------------------------------\u001b[0m",
      "\u001b[1;31mTypeError\u001b[0m                                 Traceback (most recent call last)",
      "Cell \u001b[1;32mIn[62], line 3\u001b[0m\n\u001b[0;32m      1\u001b[0m a \u001b[38;5;241m=\u001b[39m \u001b[38;5;241m4\u001b[39m\n\u001b[0;32m      2\u001b[0m b \u001b[38;5;241m=\u001b[39m \u001b[38;5;241m24\u001b[39m\n\u001b[1;32m----> 3\u001b[0m b \u001b[38;5;129;01min\u001b[39;00m a\n",
      "\u001b[1;31mTypeError\u001b[0m: argument of type 'int' is not iterable"
     ]
    }
   ],
   "source": [
    "a = 4\n",
    "b = 24\n",
    "b in a"
   ]
  },
  {
   "cell_type": "markdown",
   "id": "db1a3381",
   "metadata": {},
   "source": [
    "### NOTE:\n",
    "```- the membership operators does'nt support the integers as they are not iterable ```"
   ]
  }
 ],
 "metadata": {
  "kernelspec": {
   "display_name": "base",
   "language": "python",
   "name": "python3"
  },
  "language_info": {
   "codemirror_mode": {
    "name": "ipython",
    "version": 3
   },
   "file_extension": ".py",
   "mimetype": "text/x-python",
   "name": "python",
   "nbconvert_exporter": "python",
   "pygments_lexer": "ipython3",
   "version": "3.13.5"
  }
 },
 "nbformat": 4,
 "nbformat_minor": 5
}
