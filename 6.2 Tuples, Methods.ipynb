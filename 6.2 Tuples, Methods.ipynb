{
 "cells": [
  {
   "cell_type": "markdown",
   "id": "c08ac834",
   "metadata": {},
   "source": [
    "# **Tuple in Python**\n",
    "\n",
    "A tuple is an **ordered collection** of elements in Python.\n",
    "- Tuples are **immutable**, meaning once created, their elements **cannot be changed, added, or removed**.\n",
    "- *Duplicates Allowed*\n",
    "- *Heterogeneous Data*\n",
    "- *Indexing & Slicing*\n",
    "- *Creation*: Defined using parentheses `()` or without parentheses (packing).\n",
    "```* Example: `t1 = (1, 2, 3)` or `t2 = 1, 2, 3` ```\n",
    "- **Single-Element Tuple**: Needs a trailing comma, e.g., `(10,)`.\n",
    "- *Nested Tuples*\n",
    "  ``` * Example: `(1, (2, 3), (4, 5))` ```\n",
    "\n",
    "---"
   ]
  },
  {
   "cell_type": "code",
   "execution_count": null,
   "id": "c3c3ad4b",
   "metadata": {},
   "outputs": [
    {
     "data": {
      "text/plain": [
       "tuple"
      ]
     },
     "execution_count": 1,
     "metadata": {},
     "output_type": "execute_result"
    }
   ],
   "source": [
    "a=()\n",
    "type(a)\n",
    "#as you can see here that without giving any values the variable declares itself a tuple when defined with a "
   ]
  },
  {
   "cell_type": "code",
   "execution_count": 2,
   "id": "5884bf61",
   "metadata": {},
   "outputs": [
    {
     "data": {
      "text/plain": [
       "tuple"
      ]
     },
     "execution_count": 2,
     "metadata": {},
     "output_type": "execute_result"
    }
   ],
   "source": [
    "a=(10,)\n",
    "type(a)\n",
    "#the tuple always should ends with a comma ',' when you given only a single value "
   ]
  },
  {
   "cell_type": "code",
   "execution_count": 3,
   "id": "2861f0e6",
   "metadata": {},
   "outputs": [
    {
     "data": {
      "text/plain": [
       "tuple"
      ]
     },
     "execution_count": 3,
     "metadata": {},
     "output_type": "execute_result"
    }
   ],
   "source": [
    "a=(44, 12, 6, 5, 1)\n",
    "type(a)\n",
    "#the tuple works for homogeneous data i.e. only single data-type"
   ]
  },
  {
   "cell_type": "code",
   "execution_count": 5,
   "id": "ce5837f5",
   "metadata": {},
   "outputs": [
    {
     "data": {
      "text/plain": [
       "tuple"
      ]
     },
     "execution_count": 5,
     "metadata": {},
     "output_type": "execute_result"
    }
   ],
   "source": [
    "b=(1, 2.0, 'oppo', 'hjk', 12, 345, (9+8j), True, [90, 12], 'frame')\n",
    "type(b)\n",
    "#the tuple also works for the heterogeneous data which contains multiple data-types "
   ]
  },
  {
   "cell_type": "code",
   "execution_count": 6,
   "id": "a7ba33d8",
   "metadata": {},
   "outputs": [
    {
     "ename": "ValueError",
     "evalue": "tuple.index(x): x not in tuple",
     "output_type": "error",
     "traceback": [
      "\u001b[1;31m---------------------------------------------------------------------------\u001b[0m",
      "\u001b[1;31mValueError\u001b[0m                                Traceback (most recent call last)",
      "Cell \u001b[1;32mIn[6], line 1\u001b[0m\n\u001b[1;32m----> 1\u001b[0m b\u001b[38;5;241m.\u001b[39mindex(\u001b[38;5;241m4\u001b[39m)\n",
      "\u001b[1;31mValueError\u001b[0m: tuple.index(x): x not in tuple"
     ]
    }
   ],
   "source": [
    "b.index(4)"
   ]
  },
  {
   "cell_type": "code",
   "execution_count": null,
   "id": "1355fbe1",
   "metadata": {},
   "outputs": [],
   "source": []
  }
 ],
 "metadata": {
  "kernelspec": {
   "display_name": "base",
   "language": "python",
   "name": "python3"
  },
  "language_info": {
   "codemirror_mode": {
    "name": "ipython",
    "version": 3
   },
   "file_extension": ".py",
   "mimetype": "text/x-python",
   "name": "python",
   "nbconvert_exporter": "python",
   "pygments_lexer": "ipython3",
   "version": "3.13.5"
  }
 },
 "nbformat": 4,
 "nbformat_minor": 5
}
