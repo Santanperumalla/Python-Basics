{
 "cells": [
  {
   "cell_type": "markdown",
   "id": "c08ac834",
   "metadata": {},
   "source": [
    "# **Tuple in Python**\n",
    "\n",
    "A tuple is an **ordered collection** of elements in Python.\n",
    "- Tuples are **immutable**, meaning once created, their elements **cannot be changed, added, or removed**.\n",
    "- *Duplicates Allowed*\n",
    "- *Heterogeneous Data*\n",
    "- *Indexing & Slicing*\n",
    "- *Creation*: Defined using parentheses `()` or without parentheses (packing).\n",
    "```* Example: `t1 = (1, 2, 3)` or `t2 = 1, 2, 3` ```\n",
    "- **Single-Element Tuple**: Needs a trailing comma, e.g., `(10,)`.\n",
    "- *Nested Tuples*\n",
    "  ``` * Example: `(1, (2, 3), (4, 5))` ```\n",
    "\n",
    "---"
   ]
  },
  {
   "cell_type": "code",
   "execution_count": 1,
   "id": "c3c3ad4b",
   "metadata": {},
   "outputs": [
    {
     "data": {
      "text/plain": [
       "tuple"
      ]
     },
     "execution_count": 1,
     "metadata": {},
     "output_type": "execute_result"
    }
   ],
   "source": [
    "a=()\n",
    "type(a)\n",
    "#as you can see here that without giving any values the variable declares itself a tuple when defined with a "
   ]
  },
  {
   "cell_type": "code",
   "execution_count": 2,
   "id": "5884bf61",
   "metadata": {},
   "outputs": [
    {
     "data": {
      "text/plain": [
       "tuple"
      ]
     },
     "execution_count": 2,
     "metadata": {},
     "output_type": "execute_result"
    }
   ],
   "source": [
    "a=(10,)\n",
    "type(a)\n",
    "#the tuple always should ends with a comma ',' when you given only a single value "
   ]
  },
  {
   "cell_type": "code",
   "execution_count": 3,
   "id": "2861f0e6",
   "metadata": {},
   "outputs": [
    {
     "data": {
      "text/plain": [
       "tuple"
      ]
     },
     "execution_count": 3,
     "metadata": {},
     "output_type": "execute_result"
    }
   ],
   "source": [
    "a=(44, 12, 6, 5, 1)\n",
    "type(a)\n",
    "#the tuple works for homogeneous data i.e. only single data-type"
   ]
  },
  {
   "cell_type": "code",
   "execution_count": 4,
   "id": "ce5837f5",
   "metadata": {},
   "outputs": [
    {
     "data": {
      "text/plain": [
       "tuple"
      ]
     },
     "execution_count": 4,
     "metadata": {},
     "output_type": "execute_result"
    }
   ],
   "source": [
    "b=(1, 2.0, 'oppo', 'hjk', 12, 345, (9+8j), True, [90, 12], 'frame')\n",
    "type(b)\n",
    "#the tuple also works for the heterogeneous data which contains multiple data-types "
   ]
  },
  {
   "cell_type": "code",
   "execution_count": 5,
   "id": "1355fbe1",
   "metadata": {},
   "outputs": [
    {
     "data": {
      "text/plain": [
       "(1, 2.0, 'oppo')"
      ]
     },
     "execution_count": 5,
     "metadata": {},
     "output_type": "execute_result"
    }
   ],
   "source": [
    "b[0:3]\n",
    "# it gives you the values present in the range of this index"
   ]
  },
  {
   "cell_type": "code",
   "execution_count": 6,
   "id": "8d42ff19",
   "metadata": {},
   "outputs": [
    {
     "data": {
      "text/plain": [
       "(1, 'oppo', 12)"
      ]
     },
     "execution_count": 6,
     "metadata": {},
     "output_type": "execute_result"
    }
   ],
   "source": [
    "b[0:5:2] \n",
    "#SLICING - gives the values in the tuple with these sliced parts"
   ]
  },
  {
   "cell_type": "code",
   "execution_count": 7,
   "id": "8fe90173",
   "metadata": {},
   "outputs": [
    {
     "ename": "TypeError",
     "evalue": "'tuple' object does not support item assignment",
     "output_type": "error",
     "traceback": [
      "\u001b[1;31m---------------------------------------------------------------------------\u001b[0m",
      "\u001b[1;31mTypeError\u001b[0m                                 Traceback (most recent call last)",
      "Cell \u001b[1;32mIn[7], line 1\u001b[0m\n\u001b[1;32m----> 1\u001b[0m b[\u001b[38;5;241m0\u001b[39m]\u001b[38;5;241m=\u001b[39m\u001b[38;5;124m'\u001b[39m\u001b[38;5;124mrajeev\u001b[39m\u001b[38;5;124m'\u001b[39m\n",
      "\u001b[1;31mTypeError\u001b[0m: 'tuple' object does not support item assignment"
     ]
    }
   ],
   "source": [
    "b[0]='rajeev'\n",
    "#as tuple is an immutable object, it doesn't change the values "
   ]
  },
  {
   "cell_type": "markdown",
   "id": "a9e71db5",
   "metadata": {},
   "source": [
    "## BUILT IN METHODS - TUPLE\n",
    "- .count() - *gives the count of the values repeated*\n",
    "- .index() - *gives the index of the value given in input*\n",
    "- len() - *gives the length of the tuple by calculating no. of values*\n",
    "- min() - *gives the minimum value in a tuple, when only integers and floats consists*\n",
    "- max() - *gives the maximum value in a tuple, when only integers and floats consists*\n",
    "- sum() - *gives sum of all the values in a tuple, when only integers and floats consists*\n",
    "- del - *it totally deletes the defined tuple and makes it undefined*"
   ]
  },
  {
   "cell_type": "code",
   "execution_count": 8,
   "id": "1441c520",
   "metadata": {},
   "outputs": [],
   "source": [
    "b=(1, 2.0, 'oppo', 'hjk', 12, 345, (9+8j), True, [90, 12], 'frame')"
   ]
  },
  {
   "cell_type": "code",
   "execution_count": 9,
   "id": "78d830c1",
   "metadata": {},
   "outputs": [
    {
     "data": {
      "text/plain": [
       "1"
      ]
     },
     "execution_count": 9,
     "metadata": {},
     "output_type": "execute_result"
    }
   ],
   "source": [
    "b.count(2)"
   ]
  },
  {
   "cell_type": "code",
   "execution_count": 10,
   "id": "d4965c3a",
   "metadata": {},
   "outputs": [
    {
     "data": {
      "text/plain": [
       "5"
      ]
     },
     "execution_count": 10,
     "metadata": {},
     "output_type": "execute_result"
    }
   ],
   "source": [
    "b.index(345)\n",
    "#it gives you the value of index of input in the list\n",
    "#you should enter only the value, then only you can get index value"
   ]
  },
  {
   "cell_type": "code",
   "execution_count": 11,
   "id": "1a56ba41",
   "metadata": {},
   "outputs": [
    {
     "data": {
      "text/plain": [
       "10"
      ]
     },
     "execution_count": 11,
     "metadata": {},
     "output_type": "execute_result"
    }
   ],
   "source": [
    "len(b)\n",
    "#it gives the length value of a tuple "
   ]
  },
  {
   "cell_type": "code",
   "execution_count": 12,
   "id": "bdb30d23",
   "metadata": {},
   "outputs": [
    {
     "ename": "TypeError",
     "evalue": "'<' not supported between instances of 'str' and 'int'",
     "output_type": "error",
     "traceback": [
      "\u001b[1;31m---------------------------------------------------------------------------\u001b[0m",
      "\u001b[1;31mTypeError\u001b[0m                                 Traceback (most recent call last)",
      "Cell \u001b[1;32mIn[12], line 1\u001b[0m\n\u001b[1;32m----> 1\u001b[0m \u001b[38;5;28mmin\u001b[39m(b)\n",
      "\u001b[1;31mTypeError\u001b[0m: '<' not supported between instances of 'str' and 'int'"
     ]
    }
   ],
   "source": [
    "min(b)\n",
    "#it supports only the integer and floats values in a tuple "
   ]
  },
  {
   "cell_type": "code",
   "execution_count": 13,
   "id": "acc87b5f",
   "metadata": {},
   "outputs": [
    {
     "data": {
      "text/plain": [
       "1"
      ]
     },
     "execution_count": 13,
     "metadata": {},
     "output_type": "execute_result"
    }
   ],
   "source": [
    "a=(1,2.0,12,345,90,42)\n",
    "min(a)\n",
    "#it gives you the minimum value from list of values in a tuple "
   ]
  },
  {
   "cell_type": "code",
   "execution_count": 14,
   "id": "9dca468d",
   "metadata": {},
   "outputs": [
    {
     "data": {
      "text/plain": [
       "345"
      ]
     },
     "execution_count": 14,
     "metadata": {},
     "output_type": "execute_result"
    }
   ],
   "source": [
    "max(a)\n",
    "#it gives you the maximum value from list of values in a tuple"
   ]
  },
  {
   "cell_type": "code",
   "execution_count": 15,
   "id": "ba0b39d7",
   "metadata": {},
   "outputs": [
    {
     "data": {
      "text/plain": [
       "492.0"
      ]
     },
     "execution_count": 15,
     "metadata": {},
     "output_type": "execute_result"
    }
   ],
   "source": [
    "sum(a)\n",
    "#it gives you the sum of all values in a tuple\n",
    "#it also only supports the integer and float values in a tuple"
   ]
  },
  {
   "cell_type": "code",
   "execution_count": 16,
   "id": "be3afce8",
   "metadata": {},
   "outputs": [
    {
     "ename": "NameError",
     "evalue": "name 'a' is not defined",
     "output_type": "error",
     "traceback": [
      "\u001b[1;31m---------------------------------------------------------------------------\u001b[0m",
      "\u001b[1;31mNameError\u001b[0m                                 Traceback (most recent call last)",
      "Cell \u001b[1;32mIn[16], line 2\u001b[0m\n\u001b[0;32m      1\u001b[0m \u001b[38;5;28;01mdel\u001b[39;00m(a)\n\u001b[1;32m----> 2\u001b[0m a\n",
      "\u001b[1;31mNameError\u001b[0m: name 'a' is not defined"
     ]
    }
   ],
   "source": [
    "del(a)\n",
    "a\n",
    "#in 1st line I have given a instruction to delete the tuple and \n",
    "#in 2nd line I just trying to print the same tuple I deleted before and it says the variable is not defined\n",
    "#*del* deletes the total variable and makes into not defined one "
   ]
  },
  {
   "cell_type": "code",
   "execution_count": 17,
   "id": "e9020967",
   "metadata": {},
   "outputs": [
    {
     "ename": "NameError",
     "evalue": "name 'b' is not defined",
     "output_type": "error",
     "traceback": [
      "\u001b[1;31m---------------------------------------------------------------------------\u001b[0m",
      "\u001b[1;31mNameError\u001b[0m                                 Traceback (most recent call last)",
      "Cell \u001b[1;32mIn[17], line 2\u001b[0m\n\u001b[0;32m      1\u001b[0m \u001b[38;5;28;01mdel\u001b[39;00m(b)\n\u001b[1;32m----> 2\u001b[0m b\n",
      "\u001b[1;31mNameError\u001b[0m: name 'b' is not defined"
     ]
    }
   ],
   "source": [
    "del(b)\n",
    "b"
   ]
  }
 ],
 "metadata": {
  "kernelspec": {
   "display_name": "base",
   "language": "python",
   "name": "python3"
  },
  "language_info": {
   "codemirror_mode": {
    "name": "ipython",
    "version": 3
   },
   "file_extension": ".py",
   "mimetype": "text/x-python",
   "name": "python",
   "nbconvert_exporter": "python",
   "pygments_lexer": "ipython3",
   "version": "3.13.5"
  }
 },
 "nbformat": 4,
 "nbformat_minor": 5
}
